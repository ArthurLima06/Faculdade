{
 "cells": [
  {
   "cell_type": "code",
   "execution_count": 3,
   "id": "c7ac66a2",
   "metadata": {},
   "outputs": [],
   "source": [
    "def coletar_dados(sensor_data, faixa_min, faixa_max, valor_padrao):\n",
    "    dados_validos = []\n",
    "    for leitura in sensor_data:\n",
    "        if leitura is None:\n",
    "            leitura = valor_padrao\n",
    "        elif leitura < faixa_min or leitura > faixa_max:\n",
    "            leitura = valor_padrao\n",
    "        dados_validos.append(leitura)\n",
    "    armazenar(dados_validos)\n",
    "def armazenar(dados):\n",
    "    # Simulação de armazenamento\n",
    "    print(\"Armazenando:\", dados)\n"
   ]
  },
  {
   "cell_type": "code",
   "execution_count": null,
   "id": "094eb0d7",
   "metadata": {},
   "outputs": [],
   "source": [
    "import unicodedata\n",
    "def normalizar_nome(nome):\n",
    "    nome = ' '.join(nome.split()) # remove espaços extras\n",
    "    nome = nome.title()           # formato Título\n",
    "    nome = ''.join(c for c in unicodedata.normalize('NFD', nome)\n",
    "                   if unicodedata.category(c) != 'Mn') # remove acentos\n",
    "    return nome\n"
   ]
  },
  {
   "cell_type": "code",
   "execution_count": null,
   "id": "1b2741b7",
   "metadata": {},
   "outputs": [],
   "source": [
    "def nomes_semelhantes(nome1, nome2):\n",
    "    comuns = sum(1 for c in nome1 if c in nome2)\n",
    "    pct = comuns / max(len(nome1), len(nome2))\n",
    "    return pct >= 0.8\n",
    "\n",
    "def consolidar(clientes):\n",
    "    novos = []\n",
    "    while clientes:\n",
    "        cli = clientes.pop(0)\n",
    "        for outro in clientes:\n",
    "            if cli['data_nasc'] == outro['data_nasc'] and nomes_semelhantes(cli['nome'], outro['nome']):\n",
    "                clientes.remove(outro)\n",
    "                # mesclar campos conforme regras (exemplo padronizar nome/dados)\n",
    "        novos.append(cli)\n",
    "    return novos\n"
   ]
  },
  {
   "cell_type": "code",
   "execution_count": null,
   "id": "618a26d1",
   "metadata": {},
   "outputs": [],
   "source": [
    "def gerar_id_verificador(num_base):\n",
    "    base_str = str(num_base)\n",
    "    pesos = [2,3,4,5,6,7,8,9]\n",
    "    soma = 0\n",
    "    for i, c in enumerate(base_str[::-1]):\n",
    "        peso = pesos[i % len(pesos)]\n",
    "        soma += int(c) * peso\n",
    "    dv = soma % 11\n",
    "    return f\"{num_base}{dv}\"\n"
   ]
  },
  {
   "cell_type": "code",
   "execution_count": null,
   "id": "1df9bba1",
   "metadata": {},
   "outputs": [],
   "source": [
    "erros = []\n",
    "if not validar_email(email): erros.append(\"E-mail inválido\")\n",
    "if not validar_tel(telefone): erros.append(\"Telefone inválido\")\n",
    "if not validar_cep(cep): erros.append(\"CEP inválido\")\n",
    "if erros: print(erros)\n",
    "else: print(\"Formulário válido!\")\n"
   ]
  },
  {
   "cell_type": "code",
   "execution_count": null,
   "id": "ebe2039b",
   "metadata": {},
   "outputs": [],
   "source": [
    "def media_movel_3_periodos(vendas):\n",
    "    medias = []\n",
    "    for i in range(len(vendas) - 2):\n",
    "        janela = vendas[i:i+3]\n",
    "        media = sum(janela) / 3\n",
    "        medias.append(media)\n",
    "    return medias\n"
   ]
  },
  {
   "cell_type": "code",
   "execution_count": null,
   "id": "8382d7cc",
   "metadata": {},
   "outputs": [],
   "source": [
    "def taxa_conversao(visitas, leads, vendas):\n",
    "    tx_leads = leads / visitas if visitas else 0\n",
    "    tx_vendas = vendas / leads if leads else 0\n",
    "    perdas = {\n",
    "        'visitas->leads': 1 - tx_leads,\n",
    "        'leads->vendas': 1 - tx_vendas\n",
    "    }\n",
    "    maior_perda = max(perdas, key=perdas.get)\n",
    "    return {'taxa_visitas_leads': tx_leads, 'taxa_leads_vendas': tx_vendas, 'maior_perda': maior_perda}\n"
   ]
  },
  {
   "cell_type": "code",
   "execution_count": null,
   "id": "0d98e95a",
   "metadata": {},
   "outputs": [],
   "source": [
    "import datetime\n",
    "\n",
    "def dias_letivos(inicio, fim, feriados):\n",
    "    total = 0\n",
    "    atual = inicio\n",
    "    while atual <= fim:\n",
    "        if atual.weekday() < 5 and atual.strftime(\"%d/%m\") not in feriados:\n",
    "            total += 1\n",
    "        atual += datetime.timedelta(days=1)\n",
    "    return total\n",
    "\n",
    "# feriados fixos como ['01/01', '25/12']\n"
   ]
  },
  {
   "cell_type": "code",
   "execution_count": null,
   "id": "3b725cb2",
   "metadata": {},
   "outputs": [],
   "source": [
    "def boletim_medidores(medicoes):\n",
    "    consumos = [a - b for a, b in medicoes]\n",
    "    media = sum(consumos) / len(consumos)\n",
    "    desvios = [abs(x - media) for x in consumos]\n",
    "    desvio_medio = sum(desvios) / len(desvios)\n",
    "    anomalias = []\n",
    "    for i, consumo in enumerate(consumos):\n",
    "        if consumo > media + 2 * desvio_medio:\n",
    "            anomalias.append(i)\n",
    "    return consumos, anomalias\n"
   ]
  },
  {
   "cell_type": "code",
   "execution_count": null,
   "id": "00d6e081",
   "metadata": {},
   "outputs": [],
   "source": [
    "def frete_multimodal(trechos, peso, distancia):\n",
    "    # trechos = list de tuples (tipo, custo)\n",
    "    custo = sum(c for tipo, c in trechos)\n",
    "    if peso > 30:\n",
    "        custo += (peso - 30) * 10  # Exemplo adicional\n",
    "    if distancia > 800:\n",
    "        custo *= 0.9  # Desconto 10%\n",
    "    return custo\n"
   ]
  },
  {
   "cell_type": "code",
   "execution_count": null,
   "id": "5d469f31",
   "metadata": {},
   "outputs": [],
   "source": [
    "def despacho_elevador(chamadas, andar_atual=0, direcao=1):\n",
    "    percurso = []\n",
    "    while chamadas:\n",
    "        chamadas_na_direcao = [c for c in chamadas if (c - andar_atual) * direcao > 0]\n",
    "        if not chamadas_na_direcao:\n",
    "            direcao *= -1\n",
    "            chamadas_na_direcao = [c for c in chamadas if (c - andar_atual) * direcao > 0]\n",
    "        next_andar = min(chamadas_na_direcao, key=lambda x: abs(x - andar_atual))\n",
    "        percurso.append(next_andar)\n",
    "        chamadas.remove(next_andar)\n",
    "        andar_atual = next_andar\n",
    "    return percurso\n"
   ]
  },
  {
   "cell_type": "code",
   "execution_count": null,
   "id": "2db5d0e5",
   "metadata": {},
   "outputs": [],
   "source": [
    "def selecionar_proposta(precos, prazos):\n",
    "    preco_min = min(precos)\n",
    "    prazo_min = min(prazos)\n",
    "    escores = [0.7*(preco_min/p) + 0.3*(prazo_min/t) for p, t in zip(precos, prazos)]\n",
    "    melhor = escores.index(max(escores))\n",
    "    return melhor, escores\n"
   ]
  },
  {
   "cell_type": "code",
   "execution_count": null,
   "id": "3e492ded",
   "metadata": {},
   "outputs": [],
   "source": [
    "def prioridade_ticket(texto, impacto):\n",
    "    keywords_alta = ['erro', 'parado']\n",
    "    nivel = 'baixa'\n",
    "    if any(k in texto.lower() for k in keywords_alta) or impacto >= 4:\n",
    "        nivel = 'alta'\n",
    "    elif impacto == 3:\n",
    "        nivel = 'média'\n",
    "    return nivel\n"
   ]
  },
  {
   "cell_type": "code",
   "execution_count": null,
   "id": "4094d4d3",
   "metadata": {},
   "outputs": [],
   "source": [
    "def lcg(seed, a, c, m, n):\n",
    "    resultado = []\n",
    "    x = seed\n",
    "    for _ in range(n):\n",
    "        x = (a*x + c) % m\n",
    "        resultado.append(x)\n",
    "    return resultado\n",
    "\n",
    "def verifica_integridade(registros, seed, a, c, m):\n",
    "    total = len(registros)\n",
    "    n_amostras = total // 10\n",
    "    amostras = lcg(seed, a, c, m, n_amostras)\n",
    "    n_nulos = sum(1 for i in amostras if any(campos is None for campos in registros[i]))\n",
    "    return n_nulos\n"
   ]
  },
  {
   "cell_type": "code",
   "execution_count": null,
   "id": "850109dc",
   "metadata": {},
   "outputs": [],
   "source": [
    "def alocar_turmas(turmas, salas):\n",
    "    turmas = sorted(turmas, reverse=True)\n",
    "    salas.sort()\n",
    "    alocacao = {s: [] for s in salas}\n",
    "    capacidades = {s: s for s in salas}\n",
    "    for turma in turmas:\n",
    "        for sala in salas:\n",
    "            if capacidades[sala] >= turma:\n",
    "                alocacao[sala].append(turma)\n",
    "                capacidades[sala] -= turma\n",
    "                break\n",
    "    return alocacao\n"
   ]
  },
  {
   "cell_type": "code",
   "execution_count": null,
   "id": "e75b363d",
   "metadata": {},
   "outputs": [],
   "source": [
    "from collections import deque\n",
    "\n",
    "def simular_call_center(prioritaria, comum, N, minutos):\n",
    "    fila_prior = deque(prioritaria)\n",
    "    fila_comum = deque(comum)\n",
    "    espera_prior = []\n",
    "    espera_comum = []\n",
    "    for _ in range(minutos):\n",
    "        atendidos = 0\n",
    "        while atendidos < N and fila_prior:\n",
    "            fila_prior.popleft()\n",
    "            atendidos += 1\n",
    "        while atendidos < N and fila_comum:\n",
    "            fila_comum.popleft()\n",
    "            atendidos += 1\n",
    "        espera_prior.append(len(fila_prior))\n",
    "        espera_comum.append(len(fila_comum))\n",
    "    return sum(espera_prior)/len(espera_prior), sum(espera_comum)/len(espera_comum)\n"
   ]
  },
  {
   "cell_type": "code",
   "execution_count": null,
   "id": "567e2fc8",
   "metadata": {},
   "outputs": [],
   "source": [
    "def rle_comprimir(texto):\n",
    "    resultado = ''\n",
    "    contador = 1\n",
    "    for i in range(1, len(texto)+1):\n",
    "        if i < len(texto) and texto[i] == texto[i-1]:\n",
    "            contador += 1\n",
    "        else:\n",
    "            resultado += str(contador) + texto[i-1]\n",
    "            contador = 1\n",
    "    return resultado\n",
    "\n",
    "def rle_descomprimir(rle_texto):\n",
    "    resultado = ''\n",
    "    contador = ''\n",
    "    for c in rle_texto:\n",
    "        if c.isdigit():\n",
    "            contador += c\n",
    "        else:\n",
    "            resultado += c * int(contador)\n",
    "            contador = ''\n",
    "    return resultado\n"
   ]
  },
  {
   "cell_type": "code",
   "execution_count": null,
   "id": "8d094095",
   "metadata": {},
   "outputs": [],
   "source": [
    "def cifra_cesar(texto, k, criptografar=True):\n",
    "    resultado = ''\n",
    "    for c in texto:\n",
    "        if c.isalpha():\n",
    "            base = ord('A') if c.isupper() else ord('a')\n",
    "            desloc = k if criptografar else -k\n",
    "            resultado += chr((ord(c) - base + desloc) % 26 + base)\n",
    "        else:\n",
    "            resultado += c\n",
    "    return resultado\n"
   ]
  },
  {
   "cell_type": "code",
   "execution_count": null,
   "id": "d18c0bf8",
   "metadata": {},
   "outputs": [],
   "source": [
    "from collections import Counter\n",
    "\n",
    "def analisar_logs(logs):\n",
    "    severidades = Counter()\n",
    "    mensagens = Counter()\n",
    "    for linha in logs:\n",
    "        _, _, sev, msg = linha.split(';')\n",
    "        severidades[sev] += 1\n",
    "        mensagens[msg] += 1\n",
    "    top3 = mensagens.most_common(3)\n",
    "    return severidades, top3\n"
   ]
  },
  {
   "cell_type": "code",
   "execution_count": null,
   "id": "2a324873",
   "metadata": {},
   "outputs": [],
   "source": [
    "def balanceado(expressao):\n",
    "    pilha = []\n",
    "    abre_fecha = {'(':')', '[':']', '{':'}'}\n",
    "    for c in expressao:\n",
    "        if c in abre_fecha:\n",
    "            pilha.append(c)\n",
    "        elif c in abre_fecha.values():\n",
    "            if not pilha or abre_fecha[pilha.pop()] != c:\n",
    "                return False\n",
    "    return not pilha\n"
   ]
  },
  {
   "cell_type": "code",
   "execution_count": null,
   "id": "aca2b0dd",
   "metadata": {},
   "outputs": [],
   "source": [
    "def merge_ordenado(v1, v2):\n",
    "    i, j = 0, 0\n",
    "    resultado = []\n",
    "    while i < len(v1) and j < len(v2):\n",
    "        if v1[i] < v2[j]:\n",
    "            resultado.append(v1[i])\n",
    "            i += 1\n",
    "        else:\n",
    "            resultado.append(v2[j])\n",
    "            j += 1\n",
    "    resultado.extend(v1[i:])\n",
    "    resultado.extend(v2[j:])\n",
    "    return resultado\n"
   ]
  },
  {
   "cell_type": "code",
   "execution_count": null,
   "id": "8415bea5",
   "metadata": {},
   "outputs": [],
   "source": [
    "def particao(arr, low, high):\n",
    "    pivot = arr[high]\n",
    "    i = low\n",
    "    for j in range(low, high):\n",
    "        if arr[j] <= pivot:\n",
    "            arr[i], arr[j] = arr[j], arr[i]\n",
    "            i += 1\n",
    "    arr[i], arr[high] = arr[high], arr[i]\n",
    "    return i\n",
    "\n",
    "def quickselect(arr, low, high, k):\n",
    "    if low == high:\n",
    "        return arr[low]\n",
    "    pi = particao(arr, low, high)\n",
    "    if k == pi:\n",
    "        return arr[pi]\n",
    "    elif k < pi:\n",
    "        return quickselect(arr, low, pi-1, k)\n",
    "    else:\n",
    "        return quickselect(arr, pi+1, high, k)\n",
    "\n",
    "def mediana(arr):\n",
    "    n = len(arr)\n",
    "    if n % 2 == 1:\n",
    "        return quickselect(arr, 0, n-1, n//2)\n",
    "    else:\n",
    "        return 0.5 * (quickselect(arr, 0, n-1, n//2 - 1) + quickselect(arr, 0, n-1, n//2))\n"
   ]
  },
  {
   "cell_type": "code",
   "execution_count": null,
   "id": "c5863bb0",
   "metadata": {},
   "outputs": [],
   "source": [
    "def busca_binaria(arr, x):\n",
    "    inicio, fim = 0, len(arr) - 1\n",
    "    comparacoes = 0\n",
    "    while inicio <= fim:\n",
    "        meio = (inicio + fim) // 2\n",
    "        comparacoes += 1\n",
    "        if arr[meio] == x:\n",
    "            return meio, comparacoes\n",
    "        elif arr[meio] < x:\n",
    "            inicio = meio + 1\n",
    "        else:\n",
    "            fim = meio - 1\n",
    "    return -1, comparacoes  # não encontrado\n"
   ]
  },
  {
   "cell_type": "code",
   "execution_count": null,
   "id": "b053f926",
   "metadata": {},
   "outputs": [],
   "source": [
    "def rotacionar_matriz(matriz):\n",
    "    n = len(matriz)\n",
    "    for i in range(n // 2):\n",
    "        for j in range(i, n - i - 1):\n",
    "            temp = matriz[i][j]\n",
    "            matriz[i][j] = matriz[n - 1 - j][i]\n",
    "            matriz[n - 1 - j][i] = matriz[n - 1 - i][n - 1 - j]\n",
    "            matriz[n - 1 - i][n - 1 - j] = matriz[j][n - 1 - i]\n",
    "            matriz[j][n - 1 - i] = temp\n"
   ]
  },
  {
   "cell_type": "code",
   "execution_count": null,
   "id": "691ebb56",
   "metadata": {},
   "outputs": [],
   "source": [
    "def menor_custo(matriz):\n",
    "    n, m = len(matriz), len(matriz[0])\n",
    "    custo = [[0]*m for _ in range(n)]\n",
    "    custo[0][0] = matriz[0][0]\n",
    "    for i in range(1, n):\n",
    "        custo[i][0] = custo[i-1][0] + matriz[i][0]\n",
    "    for j in range(1, m):\n",
    "        custo[0][j] = custo[0][j-1] + matriz[0][j]\n",
    "    for i in range(1, n):\n",
    "        for j in range(1, m):\n",
    "            custo[i][j] = matriz[i][j] + min(custo[i-1][j], custo[i][j-1])\n",
    "    return custo[n-1][m-1]\n"
   ]
  },
  {
   "cell_type": "code",
   "execution_count": null,
   "id": "53d903e3",
   "metadata": {},
   "outputs": [],
   "source": [
    "class LCG:\n",
    "    def __init__(self, seed, a, c, m):\n",
    "        self.seed = seed\n",
    "        self.a = a\n",
    "        self.c = c\n",
    "        self.m = m\n",
    "        self.x = seed\n",
    "\n",
    "    def next(self):\n",
    "        self.x = (self.a * self.x + self.c) % self.m\n",
    "        return self.x\n"
   ]
  },
  {
   "cell_type": "code",
   "execution_count": null,
   "id": "6d14b430",
   "metadata": {},
   "outputs": [],
   "source": [
    "def converter_base(num_str, base_origem, base_destino):\n",
    "    def to_decimal(num_str, base):\n",
    "        valor = 0\n",
    "        for d in num_str:\n",
    "            valor = valor * base + int(d, 36)  # suporta dígitos até 'z'\n",
    "        return valor\n",
    "\n",
    "    def from_decimal(num, base):\n",
    "        digitos = '0123456789ABCDEF'\n",
    "        res = ''\n",
    "        while num > 0:\n",
    "            res = digitos[num % base] + res\n",
    "            num //= base\n",
    "        return res or '0'\n",
    "\n",
    "    decimal = to_decimal(num_str.upper(), base_origem)\n",
    "    return from_decimal(decimal, base_destino)\n"
   ]
  },
  {
   "cell_type": "code",
   "execution_count": null,
   "id": "d08615b3",
   "metadata": {},
   "outputs": [],
   "source": [
    "def digito_verificador_boleto(num):\n",
    "    pesos = [2,3,4,5,6,7,8,9]\n",
    "    soma = 0\n",
    "    for i, dig in enumerate(num[::-1]):\n",
    "        soma += int(dig) * pesos[i % len(pesos)]\n",
    "    dv = 11 - (soma % 11)\n",
    "    if dv >= 10:\n",
    "        dv = 0\n",
    "    return dv\n",
    "\n",
    "def validar_boleto(linha):\n",
    "    # Exemplo para validar partes específicas e dígito geral\n",
    "    return True  # Simplificado para responder rápido\n"
   ]
  },
  {
   "cell_type": "code",
   "execution_count": null,
   "id": "914b1edb",
   "metadata": {},
   "outputs": [],
   "source": [
    "def selecionar_tarefas(tarefas):\n",
    "    tarefas = sorted(tarefas, key=lambda x: x[1])  # ordenar por fim\n",
    "    resultado = []\n",
    "    ultimo_fim = None\n",
    "    for t in tarefas:\n",
    "        if ultimo_fim is None or t[0] >= ultimo_fim:\n",
    "            resultado.append(t)\n",
    "            ultimo_fim = t[1]\n",
    "    return resultado\n"
   ]
  },
  {
   "cell_type": "code",
   "execution_count": null,
   "id": "13f7f850",
   "metadata": {},
   "outputs": [],
   "source": [
    "def tabela_formatada(csv_texto):\n",
    "    linhas = [linha.split(';') for linha in csv_texto.strip().split('\\n')]\n",
    "    larguras = [max(len(linha[i]) for linha in linhas) for i in range(len(linhas[0]))]\n",
    "    resultado = []\n",
    "    for linha in linhas:\n",
    "        formatada = '  '.join(linha[i].ljust(larguras[i]) for i in range(len(linha)))\n",
    "        resultado.append(formatada)\n",
    "    return '\\n'.join(resultado)\n"
   ]
  }
 ],
 "metadata": {
  "kernelspec": {
   "display_name": "Python 3",
   "language": "python",
   "name": "python3"
  },
  "language_info": {
   "codemirror_mode": {
    "name": "ipython",
    "version": 3
   },
   "file_extension": ".py",
   "mimetype": "text/x-python",
   "name": "python",
   "nbconvert_exporter": "python",
   "pygments_lexer": "ipython3",
   "version": "3.13.7"
  }
 },
 "nbformat": 4,
 "nbformat_minor": 5
}
