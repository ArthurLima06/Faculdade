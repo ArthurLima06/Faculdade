{
 "cells": [
  {
   "cell_type": "code",
   "execution_count": null,
   "id": "ea167f23",
   "metadata": {},
   "outputs": [],
   "source": [
    "lista = [5, 8, 12, 3, 7]\n",
    "soma = 0\n",
    "for numero in lista:\n",
    "  soma += numero\n",
    "print (soma)"
   ]
  },
  {
   "cell_type": "code",
   "execution_count": null,
   "id": "29d134a0",
   "metadata": {},
   "outputs": [],
   "source": [
    "lista = [4, 9, 2, 15, 6, 11]\n",
    "maior = lista[0]\n",
    "for numero in lista:\n",
    "  if numero > maior:\n",
    "    maior = numero\n",
    "print(\"O maior número da lista é:\", maior)"
   ]
  },
  {
   "cell_type": "code",
   "execution_count": null,
   "id": "0ab3cc83",
   "metadata": {},
   "outputs": [],
   "source": [
    "lista = [5, 8, 12, 3, 7]\n",
    "soma = 0\n",
    "i = 0\n",
    "while i <= 4:\n",
    "  soma += lista[i]\n",
    "  i+=1\n",
    "print (soma)"
   ]
  },
  {
   "cell_type": "code",
   "execution_count": null,
   "id": "e92c6b07",
   "metadata": {},
   "outputs": [],
   "source": [
    "valores = [4, 9, 2, 15, 6, 11]\n",
    "i = 0\n",
    "maior = valores[0]\n",
    "while i < len(valores):\n",
    "  if maior < valores[i]:\n",
    "    maior = valores[i]\n",
    "  i+=1\n",
    "print(\"O maior número da lista é:\", maior)"
   ]
  },
  {
   "cell_type": "code",
   "execution_count": null,
   "id": "e65c906d",
   "metadata": {},
   "outputs": [],
   "source": [
    "for i in range (0,51):\n",
    "  print (\"número: \", i)"
   ]
  },
  {
   "cell_type": "code",
   "execution_count": null,
   "id": "490a7dd5",
   "metadata": {},
   "outputs": [],
   "source": [
    "for i in range (0,21,2):\n",
    "  print (\"número\", i)"
   ]
  },
  {
   "cell_type": "code",
   "execution_count": null,
   "id": "6ef70e80",
   "metadata": {},
   "outputs": [],
   "source": [
    "nomes = [\"Ana\", \"Armando\", \"João\", \"Maria\"]\n",
    "for letra in nomes:\n",
    "  if letra[0] == \"A\":\n",
    "    print (letra)"
   ]
  },
  {
   "cell_type": "code",
   "execution_count": null,
   "id": "dcaffbd1",
   "metadata": {},
   "outputs": [],
   "source": [
    "nomes = [\"Ana\", \"Carlos\", \"João\", \"Maria\"]\n",
    "i = 0\n",
    "while i < len(nomes):\n",
    "  if nomes[i][0] == \"A\":\n",
    "    print (nomes[i])\n",
    "  i+= 1"
   ]
  },
  {
   "cell_type": "code",
   "execution_count": null,
   "id": "9695821c",
   "metadata": {},
   "outputs": [],
   "source": [
    "soma = 0\n",
    "numero = int(input (\"Digite o número: \"))\n",
    "while numero != 0:\n",
    "  soma += numero\n",
    "  numero = int(input (\"Digite outro número: \"))\n",
    "print(\"a soma de todos os números é: \", soma)"
   ]
  },
  {
   "cell_type": "code",
   "execution_count": null,
   "id": "da65b49b",
   "metadata": {},
   "outputs": [],
   "source": [
    "numero = int(input(\"Digite o número: \"))\n",
    "valor = 0\n",
    "while numero != 7:\n",
    "  numero = int(input(\"Você errou, Tente novamente: \"))\n",
    "print (\"Parabéns!!! você acertou!\")"
   ]
  },
  {
   "cell_type": "code",
   "execution_count": null,
   "id": "9fe6c270",
   "metadata": {},
   "outputs": [],
   "source": [
    "x = (int(input(\"Deseja a tabuada para qual valor?: \")))\n",
    "for i in range (11):\n",
    "  tabuada = (x * i)\n",
    "  print (x, \".\", i, \"=\", tabuada)"
   ]
  }
 ],
 "metadata": {
  "language_info": {
   "name": "python"
  }
 },
 "nbformat": 4,
 "nbformat_minor": 5
}
