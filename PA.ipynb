{
 "cells": [
  {
   "cell_type": "code",
   "execution_count": null,
   "id": "ea167f23",
   "metadata": {},
   "outputs": [],
   "source": [
    "lista = [5, 8, 12, 3, 7]\n",
    "soma = 0\n",
    "for numero in lista:\n",
    "  soma += numero\n",
    "print (soma)"
   ]
  },
  {
   "cell_type": "code",
   "execution_count": null,
   "id": "29d134a0",
   "metadata": {},
   "outputs": [],
   "source": [
    "lista = [4, 9, 2, 15, 6, 11]\n",
    "maior = lista[0]\n",
    "for numero in lista:\n",
    "  if numero > maior:\n",
    "    maior = numero\n",
    "print(\"O maior número da lista é:\", maior)"
   ]
  },
  {
   "cell_type": "code",
   "execution_count": null,
   "id": "0ab3cc83",
   "metadata": {},
   "outputs": [],
   "source": [
    "lista = [5, 8, 12, 3, 7]\n",
    "soma = 0\n",
    "i = 0\n",
    "while i <= 4:\n",
    "  soma += lista[i]\n",
    "  i+=1\n",
    "print (soma)"
   ]
  },
  {
   "cell_type": "code",
   "execution_count": null,
   "id": "e92c6b07",
   "metadata": {},
   "outputs": [],
   "source": [
    "valores = [4, 9, 2, 15, 6, 11]\n",
    "i = 0\n",
    "maior = valores[0]\n",
    "while i < len(valores):\n",
    "  if maior < valores[i]:\n",
    "    maior = valores[i]\n",
    "  i+=1\n",
    "print(\"O maior número da lista é:\", maior)"
   ]
  },
  {
   "cell_type": "code",
   "execution_count": null,
   "id": "e65c906d",
   "metadata": {},
   "outputs": [],
   "source": [
    "for i in range (0,51):\n",
    "  print (\"número: \", i)"
   ]
  },
  {
   "cell_type": "code",
   "execution_count": null,
   "id": "490a7dd5",
   "metadata": {},
   "outputs": [],
   "source": [
    "for i in range (0,21,2):\n",
    "  print (\"número\", i)"
   ]
  },
  {
   "cell_type": "code",
   "execution_count": null,
   "id": "6ef70e80",
   "metadata": {},
   "outputs": [],
   "source": [
    "nomes = [\"Ana\", \"Armando\", \"João\", \"Maria\"]\n",
    "for letra in nomes:\n",
    "  if letra[0] == \"A\":\n",
    "    print (letra)"
   ]
  },
  {
   "cell_type": "code",
   "execution_count": null,
   "id": "dcaffbd1",
   "metadata": {},
   "outputs": [],
   "source": [
    "nomes = [\"Ana\", \"Carlos\", \"João\", \"Maria\"]\n",
    "i = 0\n",
    "while i < len(nomes):\n",
    "  if nomes[i][0] == \"A\":\n",
    "    print (nomes[i])\n",
    "  i+= 1"
   ]
  },
  {
   "cell_type": "code",
   "execution_count": null,
   "id": "9695821c",
   "metadata": {},
   "outputs": [],
   "source": [
    "soma = 0\n",
    "numero = int(input (\"Digite o número: \"))\n",
    "while numero != 0:\n",
    "  soma += numero\n",
    "  numero = int(input (\"Digite outro número: \"))\n",
    "print(\"a soma de todos os números é: \", soma)"
   ]
  },
  {
   "cell_type": "code",
   "execution_count": null,
   "id": "da65b49b",
   "metadata": {},
   "outputs": [],
   "source": [
    "numero = int(input(\"Digite o número: \"))\n",
    "valor = 0\n",
    "while numero != 7:\n",
    "  numero = int(input(\"Você errou, Tente novamente: \"))\n",
    "print (\"Parabéns!!! você acertou!\")"
   ]
  },
  {
   "cell_type": "code",
   "execution_count": 1,
   "id": "9fe6c270",
   "metadata": {},
   "outputs": [
    {
     "name": "stdout",
     "output_type": "stream",
     "text": [
      "2 . 0 = 0\n",
      "2 . 1 = 2\n",
      "2 . 2 = 4\n",
      "2 . 3 = 6\n",
      "2 . 4 = 8\n",
      "2 . 5 = 10\n",
      "2 . 6 = 12\n",
      "2 . 7 = 14\n",
      "2 . 8 = 16\n",
      "2 . 9 = 18\n",
      "2 . 10 = 20\n"
     ]
    }
   ],
   "source": [
    "x = (int(input(\"Deseja a tabuada para qual valor?: \")))\n",
    "for i in range (11):\n",
    "  tabuada = (x * i)\n",
    "  print (x, \".\", i, \"=\", tabuada)"
   ]
  },
  {
   "cell_type": "code",
   "execution_count": null,
   "id": "0fc66f34",
   "metadata": {},
   "outputs": [],
   "source": []
  }
 ],
 "metadata": {
  "kernelspec": {
   "display_name": "Python 3",
   "language": "python",
   "name": "python3"
  },
  "language_info": {
   "codemirror_mode": {
    "name": "ipython",
    "version": 3
   },
   "file_extension": ".py",
   "mimetype": "text/x-python",
   "name": "python",
   "nbconvert_exporter": "python",
   "pygments_lexer": "ipython3",
   "version": "3.13.7"
  }
 },
 "nbformat": 4,
 "nbformat_minor": 5
}
