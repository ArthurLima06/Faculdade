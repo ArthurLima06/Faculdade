{
 "cells": [
  {
   "cell_type": "code",
   "execution_count": 1,
   "metadata": {},
   "outputs": [
    {
     "name": "stdout",
     "output_type": "stream",
     "text": [
      "número zero\n"
     ]
    }
   ],
   "source": [
    "numero = float (input(\"Digite um número: \"))\n",
    "if numero > 0:\n",
    "  print(\"número positivo\")\n",
    "elif numero < 0:\n",
    "  print (\"número negativo\")\n",
    "else:\n",
    "  print (\"número zero\")\n"
   ]
  },
  {
   "cell_type": "code",
   "execution_count": null,
   "metadata": {},
   "outputs": [],
   "source": [
    "numero = float (input(\"Digite um número: \"))\n",
    "if numero % 2 == 0:\n",
    "  print (\"número par\")\n",
    "else:\n",
    "  print(\"número impar\")"
   ]
  },
  {
   "cell_type": "code",
   "execution_count": null,
   "metadata": {},
   "outputs": [],
   "source": [
    "idade = int(input(\"Digite a idade: \"))\n",
    "if idade < 12:\n",
    "  print (\"você é criança\")\n",
    "elif idade < 18:\n",
    "  print (\"você é adolescente\")\n",
    "else:\n",
    "  print (\"você é maior de idade\")"
   ]
  },
  {
   "cell_type": "code",
   "execution_count": null,
   "metadata": {},
   "outputs": [],
   "source": [
    "nota1 = float (input(\"Digite a primeira nota: \"))\n",
    "nota2 = float (input(\"Digite a segunda nota: \"))\n",
    "nota3 = float (input(\"Digite a terceira nota: \"))\n",
    "\n",
    "media = (nota1 + nota2 + nota3) / 3\n",
    "if media >= 7:\n",
    "  print (\"APROVADO\")\n",
    "elif (media < 7) and (media >= 5):\n",
    "  print (\"RECUPERAÇÃO\")\n",
    "else:\n",
    "  print (\"REPROVADO\")"
   ]
  },
  {
   "cell_type": "code",
   "execution_count": null,
   "metadata": {},
   "outputs": [],
   "source": [
    "peso = float (input(\"Digite o seu peso: \"))\n",
    "altura = float (input(\"Digite a sua altura: \"))\n",
    "imc = peso/altura**2\n",
    "\n",
    "if imc < 18.5:\n",
    "  print (\"Abaixo do peso\")\n",
    "elif (imc >= 18.5) and (imc < 24.9):\n",
    "  print (\"Peso normal\")\n",
    "elif (imc >= 24.9) and (imc < 29.9):\n",
    "  print (\"Sobrepeso\")\n",
    "else:\n",
    "  print (\"Obesidade\")"
   ]
  },
  {
   "cell_type": "code",
   "execution_count": null,
   "metadata": {},
   "outputs": [],
   "source": [
    "numero1 = float (input(\"Digite o primeiro número: \"))\n",
    "numero2 = float (input(\"Digite o segundo número: \"))\n",
    "\n",
    "print (\"1 -> soma (+)\")\n",
    "print (\"2 -> subtração (-)\")\n",
    "print (\"3 -> multiplicação (*)\")\n",
    "print (\"4 -> divisão (/)\")\n",
    "print (\"5 -> resto da divisão (%)\")\n",
    "print (\"6 -> divisão inteira (//)\")\n",
    "print (\"7 -> exponenciação (**)\")\n",
    "opcao = int(input(\"Escolha uma das opções acima: \"))\n",
    "\n",
    "if opcao == 1:\n",
    "  resultado = numero1 + numero2\n",
    "  print (resultado)\n",
    "elif opcao == 2:\n",
    "  resultado = numero1 - numero2\n",
    "  print (resultado)\n",
    "elif opcao == 3:\n",
    "  resultado = numero1 * numero2\n",
    "  print (resultado)\n",
    "elif opcao == 4:\n",
    "  resultado = numero1 / numero2\n",
    "  print (resultado)\n",
    "elif opcao == 5:\n",
    "  resultado = numero1 % numero2\n",
    "  print (resultado)\n",
    "elif opcao == 6:\n",
    "  resultado = numero1 // numero2\n",
    "  print (resultado)\n",
    "elif opcao == 7:\n",
    "  resultado = numero1 ** numero2\n",
    "  print (resultado)"
   ]
  },
  {
   "cell_type": "code",
   "execution_count": null,
   "metadata": {},
   "outputs": [],
   "source": [
    "energia = float(input(\"Digite o consumo de energia em kWh: \"))\n",
    "if energia <= 100:\n",
    "  energia = energia * 0.50\n",
    "  energia = energia + 15.0\n",
    "  print (\"A conta de energia ficou com um valor de: \", energia)\n",
    "elif (energia > 100) and (energia <= 200):\n",
    "  energia = energia * 0.70\n",
    "  energia = energia + 15.0\n",
    "  print (\"A conta de energia ficou com um valor de: \", energia)\n",
    "else:\n",
    "  energia = energia * 0.90\n",
    "  energia = energia + 15.0\n",
    "  print (\"A conta de energia ficou com um valor de: \", energia)"
   ]
  },
  {
   "cell_type": "code",
   "execution_count": null,
   "metadata": {},
   "outputs": [],
   "source": [
    "valor = int(input(\"Digite o valor que você quer sacar: \"))\n",
    "nota100 = valor // 100\n",
    "valor = valor % 100\n",
    "print (nota100, \"notas de cem\")\n",
    "if valor != 0:\n",
    "  nota50 = valor // 50\n",
    "  valor = valor % 50\n",
    "  print (nota50, \"notas de cinquenta\")\n",
    "if valor!= 0:\n",
    "  nota20 = valor // 20\n",
    "  valor = valor % 20\n",
    "  print (nota20, \"notas de vinte\")\n",
    "if valor!= 0:\n",
    "  nota10 = valor // 10\n",
    "  valor = valor % 10\n",
    "  print (nota10, \"notas de dez\")\n",
    "if valor!= 0:\n",
    "  nota5 = valor // 5\n",
    "  valor = valor % 5\n",
    "  print (nota5, \"notas de cinco\")"
   ]
  },
  {
   "cell_type": "code",
   "execution_count": null,
   "metadata": {},
   "outputs": [],
   "source": [
    "a = float(input(\"Digite o primeiro número: \"))\n",
    "b = float(input(\"Digite o segundo número: \"))\n",
    "soma = (a + 5) + (b * 2)\n",
    "print(soma)\n",
    "subtracao = (a + 5) - (b * 2)\n",
    "print(subtracao)\n",
    "multiplicacao = (a + 5) * (b * 2)\n",
    "print(multiplicacao)\n",
    "divisao = (a + 5) / (b * 2)\n",
    "print(divisao)"
   ]
  },
  {
   "cell_type": "code",
   "execution_count": null,
   "metadata": {},
   "outputs": [],
   "source": [
    "x = 5\n",
    "y = 2\n",
    "z = 8\n",
    "resultado = x + y * z / (x - y)\n",
    "print (resultado)\n",
    "print (\"o operador de subtração (-), foi utilizado primeiro, pois ele está entre parentêses, e a regra diz que as primeiras operações a serem feitas são as que estão entre parentêses.\")"
   ]
  },
  {
   "cell_type": "code",
   "execution_count": null,
   "metadata": {},
   "outputs": [],
   "source": [
    "pi = 3.14159\n",
    "raio = int(input(\"Digite o valor do raio: \"))\n",
    "area = pi * raio**2\n",
    "print (area)"
   ]
  },
  {
   "cell_type": "code",
   "execution_count": null,
   "metadata": {},
   "outputs": [],
   "source": [
    "a = float (input(\"Digite o primeiro número: \"))\n",
    "b = float (input(\"Digite o segundo número: \"))\n",
    "if a > b:\n",
    "  print (\"O maior número é: \", a)\n",
    "  print (\"O menor número é: \", b)\n",
    "  media = (a + b) / 2\n",
    "  print (\"A média é: \", media)\n",
    "elif b > a:\n",
    "  print (\"O maior número é: \", b)\n",
    "  print (\"O menor número é: \", a)\n",
    "  media = (a + b) / 2\n",
    "  print (\"A média é: \", media)\n",
    "else:\n",
    "  print (\"Os numeros são iguais\")\n",
    "  media = (a + b) / 2\n",
    "  print (\"A média é: \", media)"
   ]
  }
 ],
 "metadata": {
  "kernelspec": {
   "display_name": "Python 3",
   "language": "python",
   "name": "python3"
  },
  "language_info": {
   "codemirror_mode": {
    "name": "ipython",
    "version": 3
   },
   "file_extension": ".py",
   "mimetype": "text/x-python",
   "name": "python",
   "nbconvert_exporter": "python",
   "pygments_lexer": "ipython3",
   "version": "3.13.7"
  }
 },
 "nbformat": 4,
 "nbformat_minor": 2
}
