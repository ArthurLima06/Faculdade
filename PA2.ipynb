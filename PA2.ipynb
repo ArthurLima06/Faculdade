{
 "cells": [
  {
   "cell_type": "code",
   "execution_count": 10,
   "id": "9ffd17b6",
   "metadata": {},
   "outputs": [
    {
     "name": "stdout",
     "output_type": "stream",
     "text": [
      "NÚMEROS NEGATIVOS:  [-2, -3, -7]\n"
     ]
    }
   ],
   "source": [
    "x = int(input(\"Quantos números você vai digitar ?:\"))\n",
    "lista = []\n",
    "lista2 = []\n",
    "for i in range(x):\n",
    "    y = int(input(\"Digite um número:\"))\n",
    "    if y >= 0:\n",
    "        lista.append(y)\n",
    "    else:\n",
    "        lista2.append(y)\n",
    "print(\"NÚMEROS NEGATIVOS: \", lista2)"
   ]
  },
  {
   "cell_type": "code",
   "execution_count": 9,
   "id": "bb320b20",
   "metadata": {},
   "outputs": [
    {
     "name": "stdout",
     "output_type": "stream",
     "text": [
      "VALORES =  [4.0, 8.0, 10.0, 14.0]\n",
      "SOMA =  36.0\n",
      "MEDIA =  9.0\n"
     ]
    }
   ],
   "source": [
    "x = int(input(\"Quantos numeros voce vai digitar? \"))\n",
    "lista = []\n",
    "soma = 0\n",
    "for i in range (x):\n",
    "    y = float (input(\"Digite um numero: \"))\n",
    "    lista.append(y)\n",
    "    soma += y\n",
    "    media = soma / x\n",
    "print (\"VALORES = \", lista)\n",
    "print (\"SOMA = \", soma)\n",
    "print (\"MEDIA = \", media)"
   ]
  },
  {
   "cell_type": "code",
   "execution_count": 15,
   "id": "1c2164c7",
   "metadata": {},
   "outputs": [
    {
     "name": "stdout",
     "output_type": "stream",
     "text": [
      "Digite o nome da pessoa  1 : \n",
      "Digite a idade da pessoa  1 : \n"
     ]
    },
    {
     "ename": "ValueError",
     "evalue": "invalid literal for int() with base 10: '13Quantas pessoas serao digitadas? '",
     "output_type": "error",
     "traceback": [
      "\u001b[31m---------------------------------------------------------------------------\u001b[39m",
      "\u001b[31mValueError\u001b[39m                                Traceback (most recent call last)",
      "\u001b[36mCell\u001b[39m\u001b[36m \u001b[39m\u001b[32mIn[15]\u001b[39m\u001b[32m, line 13\u001b[39m\n\u001b[32m     11\u001b[39m nome.append(y)\n\u001b[32m     12\u001b[39m \u001b[38;5;28mprint\u001b[39m(\u001b[33m\"\u001b[39m\u001b[33mDigite a idade da pessoa \u001b[39m\u001b[33m\"\u001b[39m, pessoa, \u001b[33m\"\u001b[39m\u001b[33m: \u001b[39m\u001b[33m\"\u001b[39m)\n\u001b[32m---> \u001b[39m\u001b[32m13\u001b[39m z = \u001b[38;5;28;43mint\u001b[39;49m\u001b[43m(\u001b[49m\u001b[38;5;28;43minput\u001b[39;49m\u001b[43m(\u001b[49m\u001b[43m)\u001b[49m\u001b[43m)\u001b[49m\n\u001b[32m     14\u001b[39m \u001b[38;5;28;01mif\u001b[39;00m z < \u001b[32m16\u001b[39m:\n\u001b[32m     15\u001b[39m     menos16.append(y)\n",
      "\u001b[31mValueError\u001b[39m: invalid literal for int() with base 10: '13Quantas pessoas serao digitadas? '"
     ]
    }
   ],
   "source": [
    "x = int(input(\"Quantas pessoas serao digitadas?: \"))\n",
    "pessoa = 1\n",
    "nome = []\n",
    "idade = []\n",
    "altura = []\n",
    "menos16 = []\n",
    "soma = 0\n",
    "for i in range (x):\n",
    "    print(\"Digite o nome da pessoa \", pessoa, \": \")\n",
    "    y = str(input())\n",
    "    nome.append(y)\n",
    "    print(\"Digite a idade da pessoa \", pessoa, \": \")\n",
    "    z = int(input())\n",
    "    if z < 16:\n",
    "        menos16.append(y)\n",
    "    idade.append(z)\n",
    "    print(\"Digite a altura da pessoa \", pessoa, \": \")\n",
    "    a = float(input())\n",
    "    altura.append(a)\n",
    "    pessoa += 1\n",
    "    soma += a \n",
    "media = soma / x\n",
    "porcentagem = (len(menos16) / x) * 100\n",
    "print(\"Altura média: \", media)\n",
    "print(\"Pessoas com menos de 16 anos: \", porcentagem, \"%\")\n",
    "print (menos16)"
   ]
  }
 ],
 "metadata": {
  "kernelspec": {
   "display_name": "Python 3",
   "language": "python",
   "name": "python3"
  },
  "language_info": {
   "codemirror_mode": {
    "name": "ipython",
    "version": 3
   },
   "file_extension": ".py",
   "mimetype": "text/x-python",
   "name": "python",
   "nbconvert_exporter": "python",
   "pygments_lexer": "ipython3",
   "version": "3.13.7"
  }
 },
 "nbformat": 4,
 "nbformat_minor": 5
}
