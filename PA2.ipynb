{
 "cells": [
  {
   "cell_type": "code",
   "execution_count": 10,
   "id": "9ffd17b6",
   "metadata": {},
   "outputs": [
    {
     "name": "stdout",
     "output_type": "stream",
     "text": [
      "NÚMEROS NEGATIVOS:  [-2, -3, -7]\n"
     ]
    }
   ],
   "source": [
    "x = int(input(\"Quantos números você vai digitar ?:\"))\n",
    "lista = []\n",
    "lista2 = []\n",
    "for i in range(x):\n",
    "    y = int(input(\"Digite um número:\"))\n",
    "    if y >= 0:\n",
    "        lista.append(y)\n",
    "    else:\n",
    "        lista2.append(y)\n",
    "print(\"NÚMEROS NEGATIVOS: \", lista2)"
   ]
  },
  {
   "cell_type": "code",
   "execution_count": 9,
   "id": "bb320b20",
   "metadata": {},
   "outputs": [
    {
     "name": "stdout",
     "output_type": "stream",
     "text": [
      "VALORES =  [4.0, 8.0, 10.0, 14.0]\n",
      "SOMA =  36.0\n",
      "MEDIA =  9.0\n"
     ]
    }
   ],
   "source": [
    "x = int(input(\"Quantos numeros voce vai digitar? \"))\n",
    "lista = []\n",
    "soma = 0\n",
    "for i in range (x):\n",
    "    y = float (input(\"Digite um numero: \"))\n",
    "    lista.append(y)\n",
    "    soma += y\n",
    "    media = soma / x\n",
    "print (\"VALORES = \", lista)\n",
    "print (\"SOMA = \", soma)\n",
    "print (\"MEDIA = \", media)"
   ]
  },
  {
   "cell_type": "code",
   "execution_count": null,
   "id": "1c2164c7",
   "metadata": {},
   "outputs": [
    {
     "name": "stdout",
     "output_type": "stream",
     "text": [
      "Altura média:  1.686\n",
      "Pessoas com menos de 16 anos:  40.0 %\n",
      "NOMES:  ['joao', 'teresa']\n",
      "joao\n",
      "teresa\n"
     ]
    }
   ],
   "source": [
    "x = int(input(\"Quantas pessoas serao digitadas?: \"))\n",
    "pessoa = 1\n",
    "nome = []\n",
    "idade = []\n",
    "altura = []\n",
    "menos16 = []\n",
    "soma = 0\n",
    "for i in range (x):\n",
    "    y = str(input(\"Digite o nome da pessoa \"+ str(pessoa) + \": \"))\n",
    "    nome.append(y)\n",
    "    z = float(input(\"Digite a idade da pessoa \"+ str(pessoa) + \": \"))\n",
    "    if z < 16:\n",
    "        menos16.append(y)\n",
    "    idade.append(z)\n",
    "    a = float(input(\"Digite a altura da pessoa \"+ str(pessoa) + \": \"))\n",
    "    altura.append(a)\n",
    "    pessoa += 1\n",
    "    soma += a \n",
    "media = soma / x\n",
    "porcentagem = (len(menos16) / x) * 100\n",
    "print(\"Altura média: \", media)\n",
    "print(\"Pessoas com menos de 16 anos: \", porcentagem, \"%\")\n",
    "print (\"NOMES: \")\n",
    "for i in range (len(menos16)):\n",
    "    print (menos16[i])"
   ]
  },
  {
   "cell_type": "code",
   "execution_count": 19,
   "id": "f945334b",
   "metadata": {},
   "outputs": [
    {
     "name": "stdout",
     "output_type": "stream",
     "text": [
      "NÚMEROS PARES:  [8.0, 2.0, 14.0, 20.0]\n",
      "QUANTIDADE DE NÚMEROS PARES:  4\n"
     ]
    }
   ],
   "source": [
    "x = int(input(\"Quantos numeros voce vai digitar? \"))\n",
    "lista = []\n",
    "cont = 0\n",
    "for i in range (x):\n",
    "    y = float (input(\"Digite um numero: \"))\n",
    "    if y % 2 == 0:\n",
    "        lista.append(y)\n",
    "        cont += 1\n",
    "print (\"NÚMEROS PARES: \", lista)\n",
    "print (\"QUANTIDADE DE NÚMEROS PARES: \", cont)"
   ]
  },
  {
   "cell_type": "code",
   "execution_count": 25,
   "id": "47554ad5",
   "metadata": {},
   "outputs": [
    {
     "name": "stdout",
     "output_type": "stream",
     "text": [
      "MAIOR VALOR =  14.0\n",
      "POSICAO DO MAIOR VALOR =  3\n"
     ]
    }
   ],
   "source": [
    "x = int(input(\"Quantos numeros voce vai digitar? \"))\n",
    "lista = []\n",
    "cont = 0\n",
    "for i in range (x):\n",
    "    y = float (input(\"Digite um numero: \"))\n",
    "    lista.append(y)\n",
    "print (\"MAIOR VALOR = \", max(lista))\n",
    "print (\"POSICAO DO MAIOR VALOR = \", lista.index(max(lista)))"
   ]
  },
  {
   "cell_type": "code",
   "execution_count": 6,
   "id": "0252f4e6",
   "metadata": {},
   "outputs": [
    {
     "name": "stdout",
     "output_type": "stream",
     "text": [
      "VETOR RESULTANTE:  [13, 12, 14, 15, 23, 27]\n"
     ]
    }
   ],
   "source": [
    "x = int(input(\"Quantos valores vai ter cada vetor?\"))\n",
    "vetorA = []\n",
    "vetorB = []\n",
    "for i in range (x):\n",
    "    valoresA = int(input((\"Digite os valores do vetor A: \")))\n",
    "    vetorA.append(valoresA)\n",
    "for i in range (x):\n",
    "    valoresB = int(input((\"Digite os valores do vetor B: \")))\n",
    "    vetorB.append(valoresB)\n",
    "vetorC = []\n",
    "for i in range (x):\n",
    "    vetorC.append(vetorA[i] + vetorB[i])\n",
    "print (\"VETOR RESULTANTE: \", vetorC)"
   ]
  },
  {
   "cell_type": "code",
   "execution_count": 9,
   "id": "81b6077d",
   "metadata": {},
   "outputs": [
    {
     "name": "stdout",
     "output_type": "stream",
     "text": [
      "MEDIA DO VETOR =  12.125\n",
      "ELEMENTOS ABAIXO DA MEDIA:  [10.0, 9.8]\n"
     ]
    }
   ],
   "source": [
    "lista = []\n",
    "x = int(input(\"Quantos elementos vai ter o vetor? \"))\n",
    "for i in range (x):\n",
    "    y = float (input(\"Digite um numero: \"))\n",
    "    lista.append(y)\n",
    "abaixomedia = []\n",
    "media = sum(lista) / x  \n",
    "print (\"MEDIA DO VETOR = \", media)\n",
    "for i in range (x):\n",
    "    if lista[i] < media:\n",
    "        abaixomedia.append(lista[i])\n",
    "print (\"ELEMENTOS ABAIXO DA MEDIA: \", abaixomedia)"
   ]
  },
  {
   "cell_type": "code",
   "execution_count": 13,
   "id": "b75afe33",
   "metadata": {},
   "outputs": [
    {
     "name": "stdout",
     "output_type": "stream",
     "text": [
      "MEDIA DOS PARES =  7.33\n",
      "NUMEROS PARES =  [8.0, 2.0, 14.0, 20.0]\n"
     ]
    }
   ],
   "source": [
    "lista = []\n",
    "listapar = []\n",
    "x = int(input(\"Quantos elementos vai ter o vetor? \"))\n",
    "for i in range (x):\n",
    "    y = float (input(\"Digite um numero: \"))\n",
    "    lista.append(y)\n",
    "    if y % 2 == 0:\n",
    "        listapar.append(y)\n",
    "media = sum(listapar) / x\n",
    "if len(listapar) == 0:\n",
    "    print (\"NENHUM NUMERO PAR\")\n",
    "else:\n",
    "    print (\"MEDIA DOS PARES = \", round (media, 2))\n",
    "print (\"NUMEROS PARES = \", listapar)"
   ]
  },
  {
   "cell_type": "code",
   "execution_count": 15,
   "id": "d6230100",
   "metadata": {},
   "outputs": [
    {
     "name": "stdout",
     "output_type": "stream",
     "text": [
      "PESSOA MAIS VELHA:  bianca\n"
     ]
    }
   ],
   "source": [
    "x = int(input(\"Quantas pessoas você vai digitar? \"))\n",
    "cont = 1\n",
    "nome = []\n",
    "idade = []\n",
    "for i in range(x):\n",
    "    y = str(input(\"Digite o nome da pessoa \"+ str(cont) + \": \"))\n",
    "    z = int(input(\"Digite a idade da pessoa \"+ str(cont) + \": \")) \n",
    "    nome.append(y)\n",
    "    idade.append(z)\n",
    "    cont += 1\n",
    "maior_idade = max(idade)\n",
    "posicao = idade.index(maior_idade)\n",
    "print (\"PESSOA MAIS VELHA: \", nomes[posicao])"
   ]
  },
  {
   "cell_type": "code",
   "execution_count": null,
   "id": "ffb5da4b",
   "metadata": {},
   "outputs": [
    {
     "name": "stdout",
     "output_type": "stream",
     "text": [
      "ALUNOS APROVADOS:  ['joao silva', 'maria teixeira ', 'tersa pires']\n",
      "joao silva\n",
      "maria teixeira \n",
      "tersa pires\n"
     ]
    }
   ],
   "source": [
    "x = int(input(\"Quantos alunos serao digitados? \"))\n",
    "aprovados = []\n",
    "cont = 1\n",
    "for i in range (x):\n",
    "    nome = str(input(\"Digite nome, primeira e segunda nota do \" + str(cont) + \"o aluno: \"))\n",
    "    n1 = float(input())\n",
    "    n2 = float(input())\n",
    "    media = (n1 + n2) / 2\n",
    "    if media >= 6:\n",
    "        aprovados.append(nome)\n",
    "    cont += 1\n",
    "print (\"ALUNOS APROVADOS: \")\n",
    "for i in range (len(aprovados)):\n",
    "    print (aprovados[i])\n"
   ]
  },
  {
   "cell_type": "code",
   "execution_count": 17,
   "id": "011950c7",
   "metadata": {},
   "outputs": [
    {
     "name": "stdout",
     "output_type": "stream",
     "text": [
      "MENOR ALTURA =  1.54\n",
      "MAIOR ALTURA =  1.83\n",
      "MEDIA DAS ALTURAS DAS MULHERES =  1.69\n",
      "NUMERO DE HOMENS =  2\n"
     ]
    }
   ],
   "source": [
    "x = int(input(\"Quantas pessoas serao digitadas? \"))\n",
    "cont = 1\n",
    "contHomens = 0\n",
    "soma = 0\n",
    "listaAltura = []\n",
    "for i in range(x):\n",
    "    altura = float(input(\"altura da \" + str(cont) + \"a pessoa: \"))\n",
    "    listaAltura.append(altura)\n",
    "    genero = str(input(\"genero da \" + str(cont) + \"a pessoa: \"))\n",
    "    if genero == 'F' or genero == 'f':\n",
    "        soma += altura\n",
    "    elif genero == 'M' or genero == 'm':\n",
    "        contHomens += 1\n",
    "    cont += 1\n",
    "media = soma / (x - contHomens)\n",
    "print (\"MENOR ALTURA = \", min(listaAltura))\n",
    "print (\"MAIOR ALTURA = \", max(listaAltura))\n",
    "print (\"MEDIA DAS ALTURAS DAS MULHERES = \", round (media, 2))\n",
    "print (\"NUMERO DE HOMENS = \", contHomens)"
   ]
  },
  {
   "cell_type": "code",
   "execution_count": null,
   "id": "7855398e",
   "metadata": {},
   "outputs": [
    {
     "name": "stdout",
     "output_type": "stream",
     "text": [
      "RELATORIO: \n",
      "Lucro abaixo de 10%:  1\n",
      "Lucro entre 10% e 20%:  2\n",
      "Lucro acima de 20%:  1\n",
      "Valor total de compra:  30.0\n",
      "Valor total de venda:  33.5\n",
      "Lucro total:  3.5\n"
     ]
    }
   ],
   "source": [
    "x = int(input(\"Serao digitados dados de quantos produtos? \"))\n",
    "cont = 1\n",
    "listacompras = []\n",
    "listavendas = []\n",
    "contmenos10 = 0\n",
    "contentre10e20 = 0\n",
    "contmais20 = 0\n",
    "for i in range(x):\n",
    "    nome = str(input(\"nome do produto \" + str(cont) + \": \"))\n",
    "    preçocompra = float(input(\"preco de compra: \"))\n",
    "    preçovenda = float(input(\"preco de venda: \"))\n",
    "    listacompras.append(preçocompra)\n",
    "    listavendas.append(preçovenda)\n",
    "    lucratividade = ((preçovenda - preçocompra) / preçocompra) * 100\n",
    "    if lucratividade < 10:\n",
    "        contmenos10 += 1\n",
    "    elif 10 <= lucratividade <= 20:\n",
    "        contentre10e20 += 1\n",
    "    else:\n",
    "        contmais20 += 1\n",
    "    cont += 1\n",
    "print (\"RELATORIO: \")\n",
    "print (\"Lucro abaixo de 10%: \", contmenos10)\n",
    "print (\"Lucro entre 10% e 20%: \", contentre10e20)\n",
    "print (\"Lucro acima de 20%: \", contmais20)\n",
    "print (\"Valor total de compra: \", round (sum(listacompras), 2))\n",
    "print (\"Valor total de venda: \", round (sum(listavendas), 2))\n",
    "print (\"Lucro total: \", round (sum(listavendas) - sum(listacompras), 2))"
   ]
  }
 ],
 "metadata": {
  "kernelspec": {
   "display_name": "Python 3",
   "language": "python",
   "name": "python3"
  },
  "language_info": {
   "codemirror_mode": {
    "name": "ipython",
    "version": 3
   },
   "file_extension": ".py",
   "mimetype": "text/x-python",
   "name": "python",
   "nbconvert_exporter": "python",
   "pygments_lexer": "ipython3",
   "version": "3.13.7"
  }
 },
 "nbformat": 4,
 "nbformat_minor": 5
}
