{
 "cells": [
  {
   "cell_type": "code",
   "execution_count": 10,
   "id": "9ffd17b6",
   "metadata": {},
   "outputs": [
    {
     "name": "stdout",
     "output_type": "stream",
     "text": [
      "NÚMEROS NEGATIVOS:  [-2, -3, -7]\n"
     ]
    }
   ],
   "source": [
    "x = int(input(\"Quantos números você vai digitar ?:\"))\n",
    "lista = []\n",
    "lista2 = []\n",
    "for i in range(x):\n",
    "    y = int(input(\"Digite um número:\"))\n",
    "    if y >= 0:\n",
    "        lista.append(y)\n",
    "    else:\n",
    "        lista2.append(y)\n",
    "print(\"NÚMEROS NEGATIVOS: \", lista2)"
   ]
  },
  {
   "cell_type": "code",
   "execution_count": 9,
   "id": "bb320b20",
   "metadata": {},
   "outputs": [
    {
     "name": "stdout",
     "output_type": "stream",
     "text": [
      "VALORES =  [4.0, 8.0, 10.0, 14.0]\n",
      "SOMA =  36.0\n",
      "MEDIA =  9.0\n"
     ]
    }
   ],
   "source": [
    "x = int(input(\"Quantos numeros voce vai digitar? \"))\n",
    "lista = []\n",
    "soma = 0\n",
    "for i in range (x):\n",
    "    y = float (input(\"Digite um numero: \"))\n",
    "    lista.append(y)\n",
    "    soma += y\n",
    "    media = soma / x\n",
    "print (\"VALORES = \", lista)\n",
    "print (\"SOMA = \", soma)\n",
    "print (\"MEDIA = \", media)"
   ]
  },
  {
   "cell_type": "code",
   "execution_count": null,
   "id": "1c2164c7",
   "metadata": {},
   "outputs": [
    {
     "name": "stdout",
     "output_type": "stream",
     "text": [
      "Digite o nome da pessoa  1 : \n",
      "joao\n",
      "Digite a idade da pessoa  1 : \n",
      "15\n",
      "Digite a altura da pessoa  1 : \n",
      "1.82\n",
      "Digite o nome da pessoa  2 : \n",
      "maria\n",
      "Digite a idade da pessoa  2 : \n",
      "16\n",
      "Digite a altura da pessoa  2 : \n",
      "1.6\n",
      "Digite o nome da pessoa  3 : \n",
      "teresa\n",
      "Digite a idade da pessoa  3 : \n",
      "14\n",
      "Digite a altura da pessoa  3 : \n",
      "1.58\n",
      "Digite o nome da pessoa  4 : \n",
      "carlos\n",
      "Digite a idade da pessoa  4 : \n",
      "21\n",
      "Digite a altura da pessoa  4 : \n",
      "1.65\n",
      "Digite o nome da pessoa  5 : \n",
      "paulo\n",
      "Digite a idade da pessoa  5 : \n",
      "17\n",
      "Digite a altura da pessoa  5 : \n",
      "1.78\n",
      "Altura média:  1.686\n",
      "Pessoas com menos de 16 anos:  40.0 %\n",
      "['joao', 'teresa']\n"
     ]
    }
   ],
   "source": [
    "x = int(input(\"Quantas pessoas serao digitadas?: \"))\n",
    "pessoa = 1\n",
    "nome = []\n",
    "idade = []\n",
    "altura = []\n",
    "menos16 = []\n",
    "soma = 0\n",
    "for i in range (x):\n",
    "    print(\"Digite o nome da pessoa \", pessoa, \": \")\n",
    "    y = str(input())\n",
    "    print (y)\n",
    "    nome.append(y)\n",
    "    print(\"Digite a idade da pessoa \", pessoa, \": \")\n",
    "    z = int(input())\n",
    "    print (z)\n",
    "    if z < 16:\n",
    "        menos16.append(y)\n",
    "    idade.append(z)\n",
    "    print(\"Digite a altura da pessoa \", pessoa, \": \")\n",
    "    a = float(input())\n",
    "    print (a)\n",
    "    altura.append(a)\n",
    "    pessoa += 1\n",
    "    soma += a \n",
    "media = soma / x\n",
    "porcentagem = (len(menos16) / x) * 100\n",
    "print(\"Altura média: \", media)\n",
    "print(\"Pessoas com menos de 16 anos: \", porcentagem, \"%\")\n",
    "print (\"NOMES: \", menos16)"
   ]
  },
  {
   "cell_type": "code",
   "execution_count": 19,
   "id": "f945334b",
   "metadata": {},
   "outputs": [
    {
     "name": "stdout",
     "output_type": "stream",
     "text": [
      "NÚMEROS PARES:  [8.0, 2.0, 14.0, 20.0]\n",
      "QUANTIDADE DE NÚMEROS PARES:  4\n"
     ]
    }
   ],
   "source": [
    "x = int(input(\"Quantos numeros voce vai digitar? \"))\n",
    "lista = []\n",
    "cont = 0\n",
    "for i in range (x):\n",
    "    y = float (input(\"Digite um numero: \"))\n",
    "    if y % 2 == 0:\n",
    "        lista.append(y)\n",
    "        cont += 1\n",
    "print (\"NÚMEROS PARES: \", lista)\n",
    "print (\"QUANTIDADE DE NÚMEROS PARES: \", cont)"
   ]
  },
  {
   "cell_type": "code",
   "execution_count": 25,
   "id": "47554ad5",
   "metadata": {},
   "outputs": [
    {
     "name": "stdout",
     "output_type": "stream",
     "text": [
      "MAIOR VALOR =  14.0\n",
      "POSICAO DO MAIOR VALOR =  3\n"
     ]
    }
   ],
   "source": [
    "x = int(input(\"Quantos numeros voce vai digitar? \"))\n",
    "lista = []\n",
    "cont = 0\n",
    "for i in range (x):\n",
    "    y = float (input(\"Digite um numero: \"))\n",
    "    lista.append(y)\n",
    "print (\"MAIOR VALOR = \", max(lista))\n",
    "print (\"POSICAO DO MAIOR VALOR = \", lista.index(max(lista)))"
   ]
  },
  {
   "cell_type": "code",
   "execution_count": 6,
   "id": "0252f4e6",
   "metadata": {},
   "outputs": [
    {
     "name": "stdout",
     "output_type": "stream",
     "text": [
      "VETOR RESULTANTE:  [13, 12, 14, 15, 23, 27]\n"
     ]
    }
   ],
   "source": [
    "x = int(input(\"Quantos valores vai ter cada vetor?\"))\n",
    "vetorA = []\n",
    "vetorB = []\n",
    "for i in range (x):\n",
    "    valoresA = int(input((\"Digite os valores do vetor A: \")))\n",
    "    vetorA.append(valoresA)\n",
    "for i in range (x):\n",
    "    valoresB = int(input((\"Digite os valores do vetor B: \")))\n",
    "    vetorB.append(valoresB)\n",
    "vetorC = []\n",
    "for i in range (x):\n",
    "    vetorC.append(vetorA[i] + vetorB[i])\n",
    "print (\"VETOR RESULTANTE: \", vetorC)"
   ]
  },
  {
   "cell_type": "code",
   "execution_count": 9,
   "id": "81b6077d",
   "metadata": {},
   "outputs": [
    {
     "name": "stdout",
     "output_type": "stream",
     "text": [
      "MEDIA DO VETOR =  12.125\n",
      "ELEMENTOS ABAIXO DA MEDIA:  [10.0, 9.8]\n"
     ]
    }
   ],
   "source": [
    "lista = []\n",
    "x = int(input(\"Quantos elementos vai ter o vetor? \"))\n",
    "for i in range (x):\n",
    "    y = float (input(\"Digite um numero: \"))\n",
    "    lista.append(y)\n",
    "abaixomedia = []\n",
    "media = sum(lista) / x  \n",
    "print (\"MEDIA DO VETOR = \", media)\n",
    "for i in range (x):\n",
    "    if lista[i] < media:\n",
    "        abaixomedia.append(lista[i])\n",
    "print (\"ELEMENTOS ABAIXO DA MEDIA: \", abaixomedia)"
   ]
  },
  {
   "cell_type": "code",
   "execution_count": 13,
   "id": "b75afe33",
   "metadata": {},
   "outputs": [
    {
     "name": "stdout",
     "output_type": "stream",
     "text": [
      "MEDIA DOS PARES =  7.33\n",
      "NUMEROS PARES =  [8.0, 2.0, 14.0, 20.0]\n"
     ]
    }
   ],
   "source": [
    "lista = []\n",
    "listapar = []\n",
    "x = int(input(\"Quantos elementos vai ter o vetor? \"))\n",
    "for i in range (x):\n",
    "    y = float (input(\"Digite um numero: \"))\n",
    "    lista.append(y)\n",
    "    if y % 2 == 0:\n",
    "        listapar.append(y)\n",
    "media = sum(listapar) / x\n",
    "if len(listapar) == 0:\n",
    "    print (\"NENHUM NUMERO PAR\")\n",
    "else:\n",
    "    print (\"MEDIA DOS PARES = \", round (media, 2))\n",
    "print (\"NUMEROS PARES = \", listapar)"
   ]
  },
  {
   "cell_type": "code",
   "execution_count": null,
   "id": "ffb5da4b",
   "metadata": {},
   "outputs": [],
   "source": []
  }
 ],
 "metadata": {
  "kernelspec": {
   "display_name": "Python 3",
   "language": "python",
   "name": "python3"
  },
  "language_info": {
   "codemirror_mode": {
    "name": "ipython",
    "version": 3
   },
   "file_extension": ".py",
   "mimetype": "text/x-python",
   "name": "python",
   "nbconvert_exporter": "python",
   "pygments_lexer": "ipython3",
   "version": "3.13.7"
  }
 },
 "nbformat": 4,
 "nbformat_minor": 5
}
