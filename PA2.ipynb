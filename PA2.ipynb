{
 "cells": [
  {
   "cell_type": "code",
   "execution_count": 10,
   "id": "9ffd17b6",
   "metadata": {},
   "outputs": [
    {
     "name": "stdout",
     "output_type": "stream",
     "text": [
      "NÚMEROS NEGATIVOS:  [-2, -3, -7]\n"
     ]
    }
   ],
   "source": [
    "x = int(input(\"Quantos números você vai digitar ?:\"))\n",
    "lista = []\n",
    "lista2 = []\n",
    "for i in range(x):\n",
    "    y = int(input(\"Digite um número:\"))\n",
    "    if y >= 0:\n",
    "        lista.append(y)\n",
    "    else:\n",
    "        lista2.append(y)\n",
    "print(\"NÚMEROS NEGATIVOS: \", lista2)"
   ]
  },
  {
   "cell_type": "code",
   "execution_count": 9,
   "id": "bb320b20",
   "metadata": {},
   "outputs": [
    {
     "name": "stdout",
     "output_type": "stream",
     "text": [
      "VALORES =  [4.0, 8.0, 10.0, 14.0]\n",
      "SOMA =  36.0\n",
      "MEDIA =  9.0\n"
     ]
    }
   ],
   "source": [
    "x = int(input(\"Quantos numeros voce vai digitar? \"))\n",
    "lista = []\n",
    "soma = 0\n",
    "for i in range (x):\n",
    "    y = float (input(\"Digite um numero: \"))\n",
    "    lista.append(y)\n",
    "    soma += y\n",
    "    media = soma / x\n",
    "print (\"VALORES = \", lista)\n",
    "print (\"SOMA = \", soma)\n",
    "print (\"MEDIA = \", media)"
   ]
  }
 ],
 "metadata": {
  "kernelspec": {
   "display_name": "Python 3",
   "language": "python",
   "name": "python3"
  },
  "language_info": {
   "codemirror_mode": {
    "name": "ipython",
    "version": 3
   },
   "file_extension": ".py",
   "mimetype": "text/x-python",
   "name": "python",
   "nbconvert_exporter": "python",
   "pygments_lexer": "ipython3",
   "version": "3.13.7"
  }
 },
 "nbformat": 4,
 "nbformat_minor": 5
}
