{
 "cells": [
  {
   "cell_type": "code",
   "execution_count": null,
   "id": "a8fd4c94",
   "metadata": {},
   "outputs": [],
   "source": [
    "numero = int(input(\"Digite um número: \"))\n",
    "maior = 0\n",
    "menor = 0\n",
    "while numero > 0:\n",
    "  if maior < numero:\n",
    "    maior = numero\n",
    "  else:\n",
    "    menor = numero\n",
    "  numero = int(input(\"Digite um número: \"))\n",
    "print (\"Número maior: \", maior)\n",
    "print (\"Número menor: \", menor)"
   ]
  },
  {
   "cell_type": "code",
   "execution_count": null,
   "id": "af15aaea",
   "metadata": {},
   "outputs": [],
   "source": [
    "numero = 0\n",
    "lista = []\n",
    "while numero >= 0:\n",
    "  numero = int(input(\"Digite um número: \"))\n",
    "  if numero >= 0:\n",
    "    lista.append(numero)\n",
    "print (\"O menor número é: \", max(lista))\n",
    "print (\"O maior número é: \", min(lista))"
   ]
  },
  {
   "cell_type": "code",
   "execution_count": null,
   "id": "2fea0d1e",
   "metadata": {},
   "outputs": [],
   "source": [
    "n = int(input(\"Digite um número: \"))\n",
    "for i in range (1, n+1):\n",
    "  for j in range(i):\n",
    "    print(i, end= \"\")\n",
    "  print()"
   ]
  },
  {
   "cell_type": "code",
   "execution_count": null,
   "id": "9265ee71",
   "metadata": {},
   "outputs": [],
   "source": [
    "i = 0\n",
    "soma = 0\n",
    "contpar = 0\n",
    "contimpar = 0\n",
    "while i < 20:\n",
    "  numeros = int(input(\"Digite um número: \"))\n",
    "  soma += numeros\n",
    "  i += 1\n",
    "  if numeros % 2 == 0:\n",
    "    contpar += 1\n",
    "  else:\n",
    "    contimpar += 1\n",
    "print (\"Soma: \", soma)\n",
    "print (\"Números pares: \", contpar)\n",
    "print (\"Números impares: \", contimpar)"
   ]
  },
  {
   "cell_type": "code",
   "execution_count": null,
   "id": "9422980e",
   "metadata": {},
   "outputs": [],
   "source": [
    "def mediatop2 (lista):\n",
    "    lista.sort()\n",
    "    maior1 = lista [-1]\n",
    "    maior2 = lista [-2]\n",
    "    media = (maior1 + maior2) / 2\n",
    "    return media\n",
    "numeros = [100, 45, 320, 115, 330]\n",
    "resultado = mediatop2 (numeros)\n",
    "print (resultado)"
   ]
  },
  {
   "cell_type": "code",
   "execution_count": null,
   "id": "7b765270",
   "metadata": {},
   "outputs": [],
   "source": [
    "lista = [ 10, 44, 9, 2, 13 ]\n",
    "lista.sort()\n",
    "print ((lista[-1] + lista[-2]) / 2)"
   ]
  },
  {
   "cell_type": "code",
   "execution_count": null,
   "id": "77400718",
   "metadata": {},
   "outputs": [],
   "source": [
    "def mediatop2 (lista):\n",
    "    maior1 = max(lista)\n",
    "    lista.remove(maior1)\n",
    "    maior2 = max(lista)\n",
    "    media = (maior1 + maior2) / 2\n",
    "    return media\n",
    "numeros = [11, 20, 5, 3, 65, 3, 42]\n",
    "resultado = mediatop2 (numeros)\n",
    "print (resultado)"
   ]
  },
  {
   "cell_type": "code",
   "execution_count": null,
   "id": "05878b30",
   "metadata": {},
   "outputs": [],
   "source": [
    "def quantmultiplo (lista, multiplo):\n",
    "    count = 0\n",
    "    for numeros in lista:\n",
    "        if numeros % multiplo == 0:\n",
    "            count += 1\n",
    "    return count\n",
    "lista = [10, 44, 9, 2, 13, 20, 33, 50]\n",
    "resultado = quantmultiplo (lista, 2)\n",
    "print (resultado)"
   ]
  },
  {
   "cell_type": "code",
   "execution_count": null,
   "id": "d8cbee95",
   "metadata": {},
   "outputs": [],
   "source": [
    "def quantmultiplo (lista, multiplo):\n",
    "  count = 0\n",
    "  i = 0\n",
    "  while i < len(lista):\n",
    "    if lista[i] % multiplo == 0:\n",
    "      count += 1\n",
    "    i += 1\n",
    "  return count\n",
    "lista = [10, 44, 9, 2, 13, 20, 33, 50]\n",
    "resultado = quantmultiplo (lista, 2)\n",
    "print (resultado)"
   ]
  },
  {
   "cell_type": "code",
   "execution_count": 3,
   "id": "d6d9860f",
   "metadata": {},
   "outputs": [
    {
     "name": "stdout",
     "output_type": "stream",
     "text": [
      "TENTATIVA:  20\n",
      "Errado, tente novamente\n",
      "DICA: O número é maior\n",
      "TENTATIVA:  30\n",
      "Errado, tente novamente\n",
      "DICA: O número é maior\n",
      "TENTATIVA:  40\n",
      "Errado, tente novamente\n",
      "DICA: O número é maior\n",
      "TENTATIVA:  50\n",
      "Errado, tente novamente\n",
      "DICA: O número é maior\n",
      "TENTATIVA:  60\n",
      "Errado, tente novamente\n",
      "DICA: O número é menor\n",
      "TENTATIVA:  55\n",
      "Errado, tente novamente\n",
      "DICA: O número é menor\n",
      "TENTATIVA:  54\n",
      "Errado, tente novamente\n",
      "DICA: O número é menor\n",
      "TENTATIVA:  53\n",
      "Errado, tente novamente\n",
      "DICA: O número é menor\n",
      "Parabéns, você acertou!\n",
      "Você tentou  8  vezes até acertar\n"
     ]
    }
   ],
   "source": [
    "import random\n",
    "numero_secreto = random.randrange(1, 100)\n",
    "palpite = (int(input(\"Digite um palpite: \")))\n",
    "cont = 0\n",
    "while palpite != numero_secreto:\n",
    "    if palpite > numero_secreto:\n",
    "        print (\"TENTATIVA: \", palpite)\n",
    "        print (\"Errado, tente novamente\")\n",
    "        print (\"DICA: O número é menor\")\n",
    "    else:\n",
    "        print (\"TENTATIVA: \", palpite)\n",
    "        print (\"Errado, tente novamente\")\n",
    "        print (\"DICA: O número é maior\")\n",
    "    palpite = int(input(\"Digite um palpite: \"))\n",
    "    cont += 1\n",
    "print (\"Parabéns, você acertou!\")\n",
    "print (\"Você tentou \", cont, \" vezes até acertar\")"
   ]
  }
 ],
 "metadata": {
  "kernelspec": {
   "display_name": "Python 3",
   "language": "python",
   "name": "python3"
  },
  "language_info": {
   "codemirror_mode": {
    "name": "ipython",
    "version": 3
   },
   "file_extension": ".py",
   "mimetype": "text/x-python",
   "name": "python",
   "nbconvert_exporter": "python",
   "pygments_lexer": "ipython3",
   "version": "3.13.7"
  }
 },
 "nbformat": 4,
 "nbformat_minor": 5
}
