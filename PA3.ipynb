{
 "cells": [
  {
   "cell_type": "code",
   "execution_count": null,
   "id": "a8fd4c94",
   "metadata": {},
   "outputs": [],
   "source": [
    "numero = int(input(\"Digite um número: \"))\n",
    "maior = 0\n",
    "menor = 0\n",
    "while numero > 0:\n",
    "  if maior < numero:\n",
    "    maior = numero\n",
    "  else:\n",
    "    menor = numero\n",
    "  numero = int(input(\"Digite um número: \"))\n",
    "print (\"Número maior: \", maior)\n",
    "print (\"Número menor: \", menor)"
   ]
  },
  {
   "cell_type": "code",
   "execution_count": null,
   "id": "af15aaea",
   "metadata": {},
   "outputs": [],
   "source": [
    "numero = 0\n",
    "lista = []\n",
    "while numero >= 0:\n",
    "  numero = int(input(\"Digite um número: \"))\n",
    "  if numero >= 0:\n",
    "    lista.append(numero)\n",
    "print (\"O menor número é: \", max(lista))\n",
    "print (\"O maior número é: \", min(lista))"
   ]
  },
  {
   "cell_type": "code",
   "execution_count": null,
   "id": "2fea0d1e",
   "metadata": {},
   "outputs": [],
   "source": [
    "n = int(input(\"Digite um número: \"))\n",
    "for i in range (1, n+1):\n",
    "  for j in range(i):\n",
    "    print(i, end= \"\")\n",
    "  print()"
   ]
  },
  {
   "cell_type": "code",
   "execution_count": null,
   "id": "9265ee71",
   "metadata": {},
   "outputs": [],
   "source": [
    "i = 0\n",
    "soma = 0\n",
    "contpar = 0\n",
    "contimpar = 0\n",
    "while i < 20:\n",
    "  numeros = int(input(\"Digite um número: \"))\n",
    "  soma += numeros\n",
    "  i += 1\n",
    "  if numeros % 2 == 0:\n",
    "    contpar += 1\n",
    "  else:\n",
    "    contimpar += 1\n",
    "print (\"Soma: \", soma)\n",
    "print (\"Números pares: \", contpar)\n",
    "print (\"Números impares: \", contimpar)"
   ]
  },
  {
   "cell_type": "code",
   "execution_count": null,
   "id": "9422980e",
   "metadata": {},
   "outputs": [],
   "source": [
    "def mediatop2 (lista):\n",
    "    lista.sort()\n",
    "    maior1 = lista [-1]\n",
    "    maior2 = lista [-2]\n",
    "    media = (maior1 + maior2) / 2\n",
    "    return media\n",
    "numeros = [100, 45, 320, 115, 330]\n",
    "resultado = mediatop2 (numeros)\n",
    "print (resultado)"
   ]
  },
  {
   "cell_type": "code",
   "execution_count": null,
   "id": "7b765270",
   "metadata": {},
   "outputs": [],
   "source": [
    "lista = [ 10, 44, 9, 2, 13 ]\n",
    "lista.sort()\n",
    "print ((lista[-1] + lista[-2]) / 2)"
   ]
  },
  {
   "cell_type": "code",
   "execution_count": null,
   "id": "77400718",
   "metadata": {},
   "outputs": [],
   "source": [
    "def mediatop2 (lista):\n",
    "    maior1 = max(lista)\n",
    "    lista.remove(maior1)\n",
    "    maior2 = max(lista)\n",
    "    media = (maior1 + maior2) / 2\n",
    "    return media\n",
    "numeros = [11, 20, 5, 3, 65, 3, 42]\n",
    "resultado = mediatop2 (numeros)\n",
    "print (resultado)"
   ]
  },
  {
   "cell_type": "code",
   "execution_count": null,
   "id": "05878b30",
   "metadata": {},
   "outputs": [],
   "source": [
    "def quantmultiplo (lista, multiplo):\n",
    "    count = 0\n",
    "    for numeros in lista:\n",
    "        if numeros % multiplo == 0:\n",
    "            count += 1\n",
    "    return count\n",
    "lista = [10, 44, 9, 2, 13, 20, 33, 50]\n",
    "resultado = quantmultiplo (lista, 2)\n",
    "print (resultado)"
   ]
  },
  {
   "cell_type": "code",
   "execution_count": 6,
   "id": "d8cbee95",
   "metadata": {},
   "outputs": [
    {
     "name": "stdout",
     "output_type": "stream",
     "text": [
      "5\n"
     ]
    }
   ],
   "source": [
    "def quantmultiplo (lista, multiplo):\n",
    "  count = 0\n",
    "  i = 0\n",
    "  while i < len(lista):\n",
    "    if lista[i] % multiplo == 0:\n",
    "      count += 1\n",
    "    i += 1\n",
    "  return count\n",
    "lista = [10, 44, 9, 2, 13, 20, 33, 50]\n",
    "resultado = quantmultiplo (lista, 2)\n",
    "print (resultado)"
   ]
  },
  {
   "cell_type": "code",
   "execution_count": 5,
   "id": "d6d9860f",
   "metadata": {},
   "outputs": [
    {
     "name": "stdout",
     "output_type": "stream",
     "text": [
      "TENTATIVA:  500\n",
      "Errado, tente novamente\n",
      "DICA: O número é menor\n",
      "TENTATIVA:  250\n",
      "Errado, tente novamente\n",
      "DICA: O número é menor\n",
      "TENTATIVA:  125\n",
      "Errado, tente novamente\n",
      "DICA: O número é menor\n",
      "TENTATIVA:  75\n",
      "Errado, tente novamente\n",
      "DICA: O número é menor\n",
      "TENTATIVA:  35\n",
      "Errado, tente novamente\n",
      "DICA: O número é maior\n",
      "TENTATIVA:  15\n",
      "Errado, tente novamente\n",
      "DICA: O número é maior\n",
      "TENTATIVA:  22\n",
      "Errado, tente novamente\n",
      "DICA: O número é maior\n",
      "TENTATIVA:  24\n",
      "Errado, tente novamente\n",
      "DICA: O número é maior\n",
      "TENTATIVA:  29\n",
      "Errado, tente novamente\n",
      "DICA: O número é maior\n",
      "TENTATIVA:  32\n",
      "Errado, tente novamente\n",
      "DICA: O número é maior\n",
      "TENTATIVA:  34\n",
      "Errado, tente novamente\n",
      "DICA: O número é maior\n",
      "TENTATIVA:  44\n",
      "Errado, tente novamente\n",
      "DICA: O número é maior\n",
      "TENTATIVA:  60\n",
      "Errado, tente novamente\n",
      "DICA: O número é maior\n",
      "TENTATIVA:  80\n",
      "Errado, tente novamente\n",
      "DICA: O número é menor\n",
      "TENTATIVA:  77\n",
      "Errado, tente novamente\n",
      "DICA: O número é menor\n",
      "TENTATIVA:  75\n",
      "Errado, tente novamente\n",
      "DICA: O número é menor\n",
      "TENTATIVA:  72\n",
      "Errado, tente novamente\n",
      "DICA: O número é menor\n",
      "TENTATIVA:  69\n",
      "Errado, tente novamente\n",
      "DICA: O número é maior\n",
      "TENTATIVA:  70\n",
      "Errado, tente novamente\n",
      "DICA: O número é maior\n",
      "Parabéns, você acertou!\n",
      "Você tentou  19  vezes até acertar\n"
     ]
    }
   ],
   "source": [
    "import random\n",
    "numero_secreto = random.randrange(1, 100)\n",
    "palpite = (int(input(\"Digite um palpite: \")))\n",
    "cont = 0\n",
    "while palpite != numero_secreto:\n",
    "    if palpite > numero_secreto:\n",
    "        print (\"TENTATIVA: \", palpite)\n",
    "        print (\"Errado, tente novamente\")\n",
    "        print (\"DICA: O número é menor\")\n",
    "    else:\n",
    "        print (\"TENTATIVA: \", palpite)\n",
    "        print (\"Errado, tente novamente\")\n",
    "        print (\"DICA: O número é maior\")\n",
    "    palpite = int(input(\"Digite um palpite: \"))\n",
    "    cont += 1\n",
    "print (\"Parabéns, você acertou!\")\n",
    "print (\"Você tentou \", cont, \" vezes até acertar\")"
   ]
  },
  {
   "cell_type": "code",
   "execution_count": null,
   "id": "9927478f",
   "metadata": {},
   "outputs": [],
   "source": [
    "#JOGO DA FORCA\n",
    "\n",
    "import random\n",
    "palavras = [\"futebol\", \"basquete\", \"tenis\", \"golf\"]\n",
    "palavra = random.choice(palavras)\n",
    "segredo = [\"_\"] * len(palavra)\n",
    "erros = 0\n",
    "limite_erros = 6\n",
    "print (\"=== JOGO DA FORCA ===\")\n",
    "print(\" \".join(segredo))\n",
    "while erros < limite_erros and \"_\" in segredo:\n",
    "  letra = input(\"\\nDigite uma letra: \").lower()\n",
    "  if len(letra) != 1 or not letra.isalpha():\n",
    "    print(\"Entrada inválida Digite apenas uma letra.\")\n",
    "    continue\n",
    "  if letra in palavra:\n",
    "    for i in range(len(palavra)):\n",
    "      if palavra[i] == letra:\n",
    "        segredo[i] = letra\n",
    "        print (\"acertou\")\n",
    "  else:\n",
    "    erros += 1\n",
    "    print(f\"Letra errada! você tem {limite_erros - erros} tentativas restantes.\")\n",
    "  print(\" \".join(segredo))\n",
    "if \"_\" not in segredo:\n",
    "  print(\"Parabéns, você acertou!!!\")\n",
    "else:\n",
    "  print(\"GAME OVER! A palavra era:\", palavra)"
   ]
  },
  {
   "cell_type": "code",
   "execution_count": null,
   "id": "508baf13",
   "metadata": {},
   "outputs": [
    {
     "name": "stdout",
     "output_type": "stream",
     "text": [
      "30\n"
     ]
    }
   ],
   "source": [
    "def dispersao(lista):\n",
    "    total = 0\n",
    "    for i, v in enumerate(lista):\n",
    "        if i % 2 == 0:\n",
    "            total += v * 2\n",
    "        else:\n",
    "            total -= v // 2\n",
    "    return total\n",
    "print(dispersao([12, -5, 7, 4, -3, 6]))  # Exemplo de uso"
   ]
  },
  {
   "cell_type": "code",
   "execution_count": 20,
   "id": "6ee0c0bc",
   "metadata": {},
   "outputs": [
    {
     "name": "stdout",
     "output_type": "stream",
     "text": [
      "[1, 2, 3, 4, 5, 6, 7, 8, 9, 10, 43]\n"
     ]
    }
   ],
   "source": [
    "def exercicio(lista):\n",
    "    i = 0\n",
    "    while i < len(lista) - 1:\n",
    "        if lista[i] < 0:\n",
    "            lista.pop(i)\n",
    "        elif lista[i] == lista[i+1]:\n",
    "            lista.pop(i)\n",
    "        else:\n",
    "            i += 1\n",
    "    return lista\n",
    "lista = []\n",
    "for i in range (20):\n",
    "    x = int(input(\"digite um número: \"))\n",
    "    lista.append(x)\n",
    "resultado = exercicio(lista)\n",
    "resultado.sort()\n",
    "print(resultado)"
   ]
  },
  {
   "cell_type": "code",
   "execution_count": 47,
   "id": "db5d0855",
   "metadata": {},
   "outputs": [
    {
     "name": "stdout",
     "output_type": "stream",
     "text": [
      "Arthur, bia, Bianca, paulo, Priscila, Wanderson, \n",
      "bia, paulo, Arthur, Bianca, Priscila, Wanderson, "
     ]
    }
   ],
   "source": [
    "lista = [\"Arthur\",\"paulo\", \"bia\", \"Priscila\", \"Bianca\", \"Wanderson\"]\n",
    "ordenada = sorted(lista, key=str.lower)\n",
    "for i in range(len(ordenada)):\n",
    "    print (ordenada[i], end= \", \")\n",
    "ordenada.sort(key=len)\n",
    "print()\n",
    "for i in range(len(ordenada)):\n",
    "    print (ordenada[i], end = \", \")\n",
    "\n"
   ]
  },
  {
   "cell_type": "code",
   "execution_count": null,
   "id": "2393ff32",
   "metadata": {},
   "outputs": [],
   "source": [
    "def soma(v):\n",
    "    s = 0\n",
    "    for i in v: \n",
    "        s += i\n",
    "    return s \n",
    "\n",
    "def subtracao(v):\n",
    "    n = v[0]\n",
    "    for i in range (v[1]):\n",
    "        n -= v \n",
    "    return n\n",
    "\n"
   ]
  }
 ],
 "metadata": {
  "kernelspec": {
   "display_name": "Python 3",
   "language": "python",
   "name": "python3"
  },
  "language_info": {
   "codemirror_mode": {
    "name": "ipython",
    "version": 3
   },
   "file_extension": ".py",
   "mimetype": "text/x-python",
   "name": "python",
   "nbconvert_exporter": "python",
   "pygments_lexer": "ipython3",
   "version": "3.13.7"
  }
 },
 "nbformat": 4,
 "nbformat_minor": 5
}
