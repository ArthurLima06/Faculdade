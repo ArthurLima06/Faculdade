{
 "cells": [
  {
   "cell_type": "code",
   "execution_count": null,
   "id": "84e3c3d7",
   "metadata": {},
   "outputs": [],
   "source": [
    "i = 0\n",
    "while i < 1:\n",
    "  nota1 = float(input(\"Digite a primeira nota: \"))\n",
    "  while (nota1 < 0) or (nota1 > 10):\n",
    "    nota1 = float(input(\"Valor invalido! Tente novamente: \"))\n",
    "  nota2 = float(input(\"Digite a segunda nota: \"))\n",
    "  while (nota2 < 0) or (nota2 > 10):\n",
    "    nota2 = float (input(\"Valor invalido! Tente novamente: \"))\n",
    "  media = (nota1 + nota2) / 2\n",
    "  i += 1\n",
    "print (\"MÉDIA: \", media)"
   ]
  },
  {
   "cell_type": "code",
   "execution_count": null,
   "id": "89f2968d",
   "metadata": {},
   "outputs": [],
   "source": [
    "numero = (int(input(\"Informe um codigo (1, 2, 3) ou 4 para parar: \")))\n",
    "alcool = 0\n",
    "gasolina = 0\n",
    "diesel = 0\n",
    "while numero != 4:\n",
    "  numero = (int(input(\"Informe um codigo (1, 2, 3) ou 4 para parar: \")))\n",
    "  if numero == 1:\n",
    "    alcool += 1\n",
    "  elif numero == 2:\n",
    "    gasolina += 1\n",
    "  elif numero == 3:\n",
    "    diesel += 1\n",
    "print (\"MUITO OBRIGADO\")\n",
    "print (\"Álcool: \", alcool)\n",
    "print (\"Gasolina: \", gasolina)\n",
    "print (\"Diesel: \", diesel)"
   ]
  },
  {
   "cell_type": "code",
   "execution_count": null,
   "id": "38880f80",
   "metadata": {},
   "outputs": [],
   "source": [
    "while True:\n",
    "  x = (int(input(\"Digite um número: \")))\n",
    "  if x == 0:\n",
    "    break\n",
    "  if x % 2 != 0:\n",
    "    x += 1\n",
    "  soma = 0\n",
    "  for i in range (5):\n",
    "    soma += x + (i * 2)\n",
    "  print (\"SOMA = \", soma)"
   ]
  },
  {
   "cell_type": "code",
   "execution_count": null,
   "id": "3533777a",
   "metadata": {},
   "outputs": [],
   "source": [
    "while True:\n",
    "  x = (int(input(\"Digite um número: \")))\n",
    "  if x == 0:\n",
    "    break\n",
    "  if x % 2 != 0:\n",
    "    x += 1\n",
    "  soma = 0\n",
    "  contador = 0\n",
    "\n",
    "  while contador < 5:\n",
    "    soma += x\n",
    "    x += 2\n",
    "    contador += 1\n",
    "  print (\"SOMA = \", soma)"
   ]
  },
  {
   "cell_type": "code",
   "execution_count": 2,
   "id": "38d102ca",
   "metadata": {},
   "outputs": [
    {
     "name": "stdout",
     "output_type": "stream",
     "text": [
      "4 . 0 = 0\n",
      "4 . 1 = 4\n",
      "4 . 2 = 8\n",
      "4 . 3 = 12\n",
      "4 . 4 = 16\n",
      "4 . 5 = 20\n",
      "4 . 6 = 24\n",
      "4 . 7 = 28\n",
      "4 . 8 = 32\n",
      "4 . 9 = 36\n",
      "4 . 10 = 40\n"
     ]
    }
   ],
   "source": [
    "x = (int(input(\"Deseja a tabuada para qual valor?: \")))\n",
    "for i in range (11):\n",
    "  tabuada = (x * i)\n",
    "  print (x, \".\", i, \"=\", tabuada)"
   ]
  },
  {
   "cell_type": "code",
   "execution_count": 10,
   "id": "ee842cf7",
   "metadata": {},
   "outputs": [
    {
     "name": "stdout",
     "output_type": "stream",
     "text": [
      "SOMA DOS ÍMPARES:  0\n"
     ]
    }
   ],
   "source": [
    "x = (int(input(\"Digite dois números:\")))\n",
    "y = (int(input()))\n",
    "if x > y:\n",
    "    troca = x\n",
    "    x = y\n",
    "    y = troca\n",
    "soma = 0\n",
    "for i in range (x + 1, y - 1):\n",
    "  if i % 2 != 0:\n",
    "    soma += i\n",
    "print (\"SOMA DOS ÍMPARES: \", soma)\n"
   ]
  },
  {
   "cell_type": "code",
   "execution_count": 1,
   "id": "a77c3f7e",
   "metadata": {},
   "outputs": [
    {
     "name": "stdout",
     "output_type": "stream",
     "text": [
      "1\n",
      "3\n",
      "5\n",
      "7\n"
     ]
    }
   ],
   "source": [
    "x = int (input(\"Digite um número: \"))\n",
    "for i in range(x):\n",
    "  if i % 2 != 0:\n",
    "    print (i)"
   ]
  },
  {
   "cell_type": "code",
   "execution_count": null,
   "id": "6e24e6a2",
   "metadata": {},
   "outputs": [],
   "source": [
    "n = int(input(\"Quantos numeros voce vai digitar?: \"))\n",
    "dentro = 0\n",
    "fora = 0\n",
    "for i in range(n):\n",
    "  x = int (input(\"Digite um numero: \"))\n",
    "  if (x >= 10) and (x <= 20):\n",
    "    dentro += 1\n",
    "  else:\n",
    "    fora += 1\n",
    "print (dentro, \"DENTRO\")\n",
    "print (fora, \"FORA\")"
   ]
  },
  {
   "cell_type": "code",
   "execution_count": null,
   "id": "497ed4a4",
   "metadata": {},
   "outputs": [],
   "source": [
    "numero = int(input(\"Digite um número: \"))\n",
    "maior = 0\n",
    "menor = 0\n",
    "while numero > 0:\n",
    "  if maior < numero:\n",
    "    maior = numero\n",
    "  else:\n",
    "    menor = numero\n",
    "  numero = int(input(\"Digite um número: \"))\n",
    "print (\"Número maior: \", maior)\n",
    "print (\"Número menor: \", menor)"
   ]
  },
  {
   "cell_type": "code",
   "execution_count": 3,
   "id": "6423fe06",
   "metadata": {},
   "outputs": [
    {
     "name": "stdout",
     "output_type": "stream",
     "text": [
      "IMPAR NEGATIVO\n",
      "NULO\n",
      "IMPAR POSITIVO\n",
      "PAR NEGATIVO\n"
     ]
    }
   ],
   "source": [
    "x = int(input(\"Quantos números você vai digitar ?: \"))\n",
    "for i in range (x):\n",
    "    n = int(input(\"Digite um número: \"))\n",
    "    if n % 2 == 0 and n > 0:\n",
    "        print (\"PAR POSITIVO\")\n",
    "    elif n % 2 == 0 and n < 0:\n",
    "        print (\"PAR NEGATIVO\")\n",
    "    elif n % 2 != 0 and n > 0:\n",
    "        print (\"IMPAR POSITIVO\")\n",
    "    elif n % 2 != 0 and n < 0:\n",
    "        print (\"IMPAR NEGATIVO\")\n",
    "    else:\n",
    "        print (\"NULO\")"
   ]
  },
  {
   "cell_type": "code",
   "execution_count": 22,
   "id": "f4684d39",
   "metadata": {},
   "outputs": [
    {
     "name": "stdout",
     "output_type": "stream",
     "text": [
      "MÉDIA:  5.7\n",
      "MÉDIA:  6.3\n",
      "MÉDIA:  9.3\n"
     ]
    }
   ],
   "source": [
    "x = int(input(\"Quantos casos você vai digitar ?: \"))\n",
    "for i in range (x):\n",
    "    a = (float(input(\"Digite três números: \")))\n",
    "    b = (float(input()))\n",
    "    c = (float(input()))\n",
    "    media = ((a *2) + (b * 3) + (c * 5)) / 10\n",
    "    print (\"MÉDIA: \", round(media, 1))"
   ]
  },
  {
   "cell_type": "code",
   "execution_count": 13,
   "id": "453aceb1",
   "metadata": {},
   "outputs": [
    {
     "name": "stdout",
     "output_type": "stream",
     "text": [
      "DIVISÃO:  -1.5\n",
      "DIVISÃO IMPOSSÍVEL\n",
      "DIVISÃO:  0.0\n"
     ]
    }
   ],
   "source": [
    "x = int(input(\"Quantos casos você vai digitar ?: \"))\n",
    "for i in range (x):\n",
    "    ndr = int(input(\"Entre com o numerador: \"))\n",
    "    dnr = int(input(\"Entre com o denominador: \"))\n",
    "    if dnr == 0:\n",
    "        print (\"DIVISÃO IMPOSSÍVEL\")\n",
    "    else:\n",
    "        divisao = ndr / dnr\n",
    "        print (\"DIVISÃO: \", divisao)"
   ]
  },
  {
   "cell_type": "code",
   "execution_count": 37,
   "id": "460e7461",
   "metadata": {},
   "outputs": [
    {
     "name": "stdout",
     "output_type": "stream",
     "text": [
      "720\n"
     ]
    }
   ],
   "source": [
    "n = int(input(\"Digite o valor de N: \"))\n",
    "fatorial = 1\n",
    "if n > 15:\n",
    "    print (\"Valor inválido, o número deve ser no máximo 15\")\n",
    "else:\n",
    "    for i in range (1, n + 1):\n",
    "        fatorial = fatorial * i\n",
    "    print (fatorial)"
   ]
  },
  {
   "cell_type": "code",
   "execution_count": 20,
   "id": "3e8317d2",
   "metadata": {},
   "outputs": [
    {
     "name": "stdout",
     "output_type": "stream",
     "text": [
      "RELATÓRIO FINAL:\n",
      "Total:  92 cobaias\n",
      "Total de coelhos:  29\n",
      "Total de ratos:  40\n",
      "Total de sapos:  23\n",
      "Percentual de coelhos:  31.521739130434785 %\n",
      "Percentual de ratos:  43.47826086956522 %\n",
      "Percentual de sapos:  25.0 %\n"
     ]
    }
   ],
   "source": [
    "casos = int(input(\"Quantos casos de testes serão digitados ?: \"))\n",
    "total = 0\n",
    "contcoelhos = 0\n",
    "contratos = 0   \n",
    "contsapos = 0\n",
    "for i in range (casos):\n",
    "    n = int(input(\"Quantidade de cobaias: \"))\n",
    "    total += n\n",
    "    tipo = input(\"Tipo de cobaia: \")\n",
    "    if tipo == \"C\" or tipo == \"c\":\n",
    "        contcoelhos += n\n",
    "    elif tipo == \"R\" or tipo == \"r\":\n",
    "        contratos += n\n",
    "    elif tipo == \"S\" or tipo == \"s\":\n",
    "        contsapos += n\n",
    "print (\"RELATÓRIO FINAL:\")\n",
    "print (\"Total: \", total, \"cobaias\")\n",
    "print (\"Total de coelhos: \", contcoelhos)\n",
    "print (\"Total de ratos: \", contratos)\n",
    "print (\"Total de sapos: \", contsapos)\n",
    "print (\"Percentual de coelhos: \", (contcoelhos / total) * 100, \"%\")\n",
    "print (\"Percentual de ratos: \", (contratos / total) * 100, \"%\")\n",
    "print (\"Percentual de sapos: \", (contsapos / total) * 100, \"%\")"
   ]
  },
  {
   "cell_type": "code",
   "execution_count": 17,
   "id": "0eee196d",
   "metadata": {},
   "outputs": [
    {
     "name": "stdout",
     "output_type": "stream",
     "text": [
      "Temperatura em Fahrenheit:  86.0\n",
      "Temperatura em Fahrenheit:  69.8\n",
      "Temperatura em Fahrenheit:  13.1\n"
     ]
    }
   ],
   "source": [
    "while True:\n",
    "  c = float (input(\"Digite a temperatura em Celsius: \"))\n",
    "  f = (c * 9 / 5) + 32\n",
    "  print (\"Temperatura em Fahrenheit: \", round(f, 1))\n",
    "  resp = input(\"Deseja repetir (s/n) ?: \").lower()\n",
    "  if resp != \"s\":\n",
    "    break   "
   ]
  },
  {
   "cell_type": "code",
   "execution_count": 20,
   "id": "b5d52f35",
   "metadata": {},
   "outputs": [
    {
     "name": "stdout",
     "output_type": "stream",
     "text": [
      "SENHA INVÁLIDA\n",
      "SENHA INVÁLIDA\n",
      "SENHA INVÁLIDA\n",
      "ACESSO PERMITIDO\n"
     ]
    }
   ],
   "source": [
    "senha = int(input(\"Digite a senha: \"))\n",
    "while senha != 2002:\n",
    "  print (\"SENHA INVÁLIDA\")\n",
    "  senha = int(input(\"Digite a senha: \"))\n",
    "print (\"ACESSO PERMITIDO\")"
   ]
  }
 ],
 "metadata": {
  "kernelspec": {
   "display_name": "Python 3",
   "language": "python",
   "name": "python3"
  },
  "language_info": {
   "codemirror_mode": {
    "name": "ipython",
    "version": 3
   },
   "file_extension": ".py",
   "mimetype": "text/x-python",
   "name": "python",
   "nbconvert_exporter": "python",
   "pygments_lexer": "ipython3",
   "version": "3.13.7"
  }
 },
 "nbformat": 4,
 "nbformat_minor": 5
}
