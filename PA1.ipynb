{
 "cells": [
  {
   "cell_type": "code",
   "execution_count": null,
   "id": "84e3c3d7",
   "metadata": {},
   "outputs": [],
   "source": [
    "i = 0\n",
    "while i < 1:\n",
    "  nota1 = float(input(\"Digite a primeira nota: \"))\n",
    "  while (nota1 < 0) or (nota1 > 10):\n",
    "    nota1 = float(input(\"Valor invalido! Tente novamente: \"))\n",
    "  nota2 = float(input(\"Digite a segunda nota: \"))\n",
    "  while (nota2 < 0) or (nota2 > 10):\n",
    "    nota2 = float (input(\"Valor invalido! Tente novamente: \"))\n",
    "  media = (nota1 + nota2) / 2\n",
    "  i += 1\n",
    "print (\"MÉDIA: \", media)"
   ]
  },
  {
   "cell_type": "code",
   "execution_count": null,
   "id": "89f2968d",
   "metadata": {},
   "outputs": [],
   "source": [
    "numero = (int(input(\"Informe um codigo (1, 2, 3) ou 4 para parar: \")))\n",
    "alcool = 0\n",
    "gasolina = 0\n",
    "diesel = 0\n",
    "while numero != 4:\n",
    "  numero = (int(input(\"Informe um codigo (1, 2, 3) ou 4 para parar: \")))\n",
    "  if numero == 1:\n",
    "    alcool += 1\n",
    "  elif numero == 2:\n",
    "    gasolina += 1\n",
    "  elif numero == 3:\n",
    "    diesel += 1\n",
    "print (\"MUITO OBRIGADO\")\n",
    "print (\"Álcool: \", alcool)\n",
    "print (\"Gasolina: \", gasolina)\n",
    "print (\"Diesel: \", diesel)"
   ]
  },
  {
   "cell_type": "code",
   "execution_count": null,
   "id": "38880f80",
   "metadata": {},
   "outputs": [],
   "source": [
    "while True:\n",
    "  x = (int(input(\"Digite um número: \")))\n",
    "  if x == 0:\n",
    "    break\n",
    "  if x % 2 != 0:\n",
    "    x += 1\n",
    "  soma = 0\n",
    "  for i in range (5):\n",
    "    soma += x + (i * 2)\n",
    "  print (\"SOMA = \", soma)"
   ]
  },
  {
   "cell_type": "code",
   "execution_count": null,
   "id": "3533777a",
   "metadata": {},
   "outputs": [],
   "source": [
    "while True:\n",
    "  x = (int(input(\"Digite um número: \")))\n",
    "  if x == 0:\n",
    "    break\n",
    "  if x % 2 != 0:\n",
    "    x += 1\n",
    "  soma = 0\n",
    "  contador = 0\n",
    "\n",
    "  while contador < 5:\n",
    "    soma += x\n",
    "    x += 2\n",
    "    contador += 1\n",
    "  print (\"SOMA = \", soma)"
   ]
  },
  {
   "cell_type": "code",
   "execution_count": null,
   "id": "38d102ca",
   "metadata": {},
   "outputs": [],
   "source": [
    "x = (int(input(\"Deseja a tabuada para qual valor?: \")))\n",
    "for i in range (11):\n",
    "  tabuada = (x * i)\n",
    "  print (x, \".\", i, \"=\", tabuada)"
   ]
  },
  {
   "cell_type": "code",
   "execution_count": null,
   "id": "a77c3f7e",
   "metadata": {},
   "outputs": [],
   "source": [
    "x = int (input(\"Digite um número: \"))\n",
    "for i in range(x):\n",
    "  if i % 2 != 0:\n",
    "    print (i)"
   ]
  },
  {
   "cell_type": "code",
   "execution_count": null,
   "id": "6e24e6a2",
   "metadata": {},
   "outputs": [],
   "source": [
    "n = int(input(\"Quantos numeros voce vai digitar?: \"))\n",
    "dentro = 0\n",
    "fora = 0\n",
    "for i in range(n):\n",
    "  x = int (input(\"Digite um numero: \"))\n",
    "  if (x >= 10) and (x <= 20):\n",
    "    dentro += 1\n",
    "  else:\n",
    "    fora += 1\n",
    "print (dentro, \"DENTRO\")\n",
    "print (fora, \"FORA\")"
   ]
  },
  {
   "cell_type": "code",
   "execution_count": null,
   "id": "497ed4a4",
   "metadata": {},
   "outputs": [],
   "source": [
    "numero = int(input(\"Digite um número: \"))\n",
    "maior = 0\n",
    "menor = 0\n",
    "while numero > 0:\n",
    "  if maior < numero:\n",
    "    maior = numero\n",
    "  else:\n",
    "    menor = numero\n",
    "  numero = int(input(\"Digite um número: \"))\n",
    "print (\"Número maior: \", maior)\n",
    "print (\"Número menor: \", menor)"
   ]
  }
 ],
 "metadata": {
  "language_info": {
   "name": "python"
  }
 },
 "nbformat": 4,
 "nbformat_minor": 5
}
